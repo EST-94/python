{
 "cells": [
  {
   "cell_type": "code",
   "execution_count": 14,
   "metadata": {},
   "outputs": [],
   "source": [
    "from isoweek import Week"
   ]
  },
  {
   "cell_type": "code",
   "execution_count": 15,
   "metadata": {},
   "outputs": [],
   "source": [
    "def getYearweek(yearweek, option):\n",
    "    if type(option) == str : option = int(option)       #option이 str로 입력됐을 때 int로 변환\n",
    "    if type(yearweek) == int : yearweek = str(yearweek) #yearweek이 int로 입력됐을 때 str로 변환\n",
    "    inputYear = int(yearweek[:4])\n",
    "    inputWeek = int(yearweek[4:])\n",
    "    newWeek = inputWeek\n",
    "    i = 1\n",
    "\n",
    "    if (inputWeek <= option)  :  \n",
    "        while ((newWeek <= option)==True):  #누적받는 newweek 이 option보다 작은동안 while문을 돌린다.\n",
    "            newYear = inputYear - i         #입력년도 - i를 이용해 년도 수를 줄여나간다.\n",
    "            newWeek = newWeek + Week.last_week_of_year(newYear).week #해당 년도의 maxweek값을 구해 newweek에 더해준다.\n",
    "            i = i +1\n",
    "\n",
    "            if (newWeek > option) :      #만약 newweek이 option보다 커지면 newweek-option 실행 후 break\n",
    "                result = str(newWeek - option) \n",
    "                if len(result) == 1 :  \n",
    "                    result = \"0\" + result \n",
    "                break\n",
    "        return str(newYear) + str(result) #줄어든 year과 결과값을 문자열로 변경해 이어준다.\n",
    "\n",
    "    else : #week이 option보다 큰 경우 \n",
    "        result =  str(inputWeek - option)\n",
    "        if len(result) == 1 :\n",
    "            result = \"0\" + result\n",
    "            result = str(inputYear) + result\n",
    "            return result\n",
    "        else: \n",
    "            result = str(inputYear) + result\n",
    "            return result"
   ]
  },
  {
   "cell_type": "code",
   "execution_count": 16,
   "metadata": {},
   "outputs": [],
   "source": [
    "def plusYearweek(yearweek, option):\n",
    "    if type(option) == str : option = int(option)       #option이 str로 입력됐을 때 int로 변환\n",
    "    if type(yearweek) == int : yearweek = str(yearweek) #yearweek이 int로 입력됐을 때 str로 변환\n",
    "    inputYear = int(yearweek[:4])\n",
    "    inputWeek = int(yearweek[4:])\n",
    "    week = Week.last_week_of_year(inputYear).week - inputWeek#max에서 현재 주차를 빼서 남은 주차 계산 (올해 얼만큼 더 증가시킬 수 있는지 볼 수 있음.)\n",
    "    option = option - inputWeek\n",
    "    newWeek = week\n",
    "    i = 1\n",
    "\n",
    "    if (week < option)  :  #남은 주차값이 옵션보다 작을경우 \n",
    "        while ((week < option)==True):  #누적받는 newweek 이 option보다 작은동안 while문을 돌린다.\n",
    "            newYear = inputYear + i         #입력년도 - i를 이용해 년도 수를 줄여나간다.\n",
    "            newWeek = newWeek + Week.last_week_of_year(newYear).week #해당 년도의 maxweek값을 구해 newweek에 더해준다.\n",
    "            i = i +1\n",
    "\n",
    "            if (newWeek > option) :      #만약 newweek이 option보다 커지면 newweek-option 실행 후 break\n",
    "                result = str(newWeek - option) \n",
    "                if len(result) == 1 :  \n",
    "                    result = \"0\" + result \n",
    "                break\n",
    "        return str(newYear) + str(result) #줄어든 year과 결과값을 문자열로 변경해 이어준다.\n",
    "\n",
    "    else : #week이 option보다 큰 경우 \n",
    "        result = inputWeek + option\n",
    "        result = str (inputYear) + str(result)\n",
    "        return result"
   ]
  }
 ],
 "metadata": {
  "kernelspec": {
   "display_name": "Python 3",
   "language": "python",
   "name": "python3"
  },
  "language_info": {
   "codemirror_mode": {
    "name": "ipython",
    "version": 3
   },
   "file_extension": ".py",
   "mimetype": "text/x-python",
   "name": "python",
   "nbconvert_exporter": "python",
   "pygments_lexer": "ipython3",
   "version": "3.8.3"
  }
 },
 "nbformat": 4,
 "nbformat_minor": 4
}

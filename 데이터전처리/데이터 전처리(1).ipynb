{
 "cells": [
  {
   "cell_type": "markdown",
   "metadata": {},
   "source": [
    "# 데이터 전처리 (1)"
   ]
  },
  {
   "cell_type": "code",
   "execution_count": 4,
   "metadata": {},
   "outputs": [],
   "source": [
    "# 라이브러리 선언\n",
    "import pandas as pd\n",
    "import numpy as np\n",
    "\n",
    "# 데이터 불러오기\n",
    "csData = pd.read_csv(\"../../dataset/customerdata.csv\", encoding = \"ms949\")\n",
    "csDataOrigin = pd.read_csv(\"../../dataset/customerdata.csv\", encoding = \"ms949\")\n",
    "\n",
    "# 데이터 정보확인\n",
    "csData.info()\n",
    "csData.head()\n",
    "print(csData.to_markdown)\n",
    "csData.dtypes\n",
    "\n",
    "# 함수를 활용한 조작 (복잡한 로직에도 적용이 )\n",
    "# np.where를 활용한 조작 (복잡한 로직에 적용하기 어려움)\n",
    "# loc 함수를 활용한 조작 (높은 가독성, 낮은 속도)\n",
    "# map 함수를 활용한 조작 (머신/딥러닝에서 많이 사용)"
   ]
  },
  {
   "cell_type": "code",
   "execution_count": 10,
   "metadata": {},
   "outputs": [],
   "source": [
    "## 1. 리스트에서 데이터프레임 생성하기\n",
    "\n",
    "productList = [\"aProduct\", \"bProduct\", \"cProduct\", \"dProduct\"]\n",
    "priceList = [1000, 2000, 3000, 4000]\n",
    "zipList = zip(productList, priceList)\n",
    "resultDF = pd.DataFrame(zipList, columns = [\"prdname\", \"prdprice\"])"
   ]
  },
  {
   "cell_type": "code",
   "execution_count": 19,
   "metadata": {},
   "outputs": [],
   "source": [
    "## 2. 특정 항의 특정 수치 이상 조회하기\n",
    "\n",
    "# 다중조건은 괄호를 통해 묶어준다.\n",
    "resultDF.loc[resultDF.prdprice>2000]\n",
    "csData2 = csData.loc[(csData.EMI >= 3) & (csData.AVGPRICE > 3500)]"
   ]
  },
  {
   "cell_type": "code",
   "execution_count": 24,
   "metadata": {},
   "outputs": [],
   "source": [
    "## 3. 문자열 연산을 통한 특정 항 추출\n",
    "\n",
    "targetID = \"a13566\"\n",
    "howToUpper1 = csData.loc [csData.CUSTID == targetID.upper()]\n",
    "howToUpper2 = csData.loc [csData.CUSTID.str.upper() == targetID.upper()]"
   ]
  },
  {
   "cell_type": "code",
   "execution_count": 35,
   "metadata": {},
   "outputs": [],
   "source": [
    "## 4. 데이터 프레임 내 데이터 문자형 변환\n",
    "\n",
    "# 중괄호가 없는 경우는 기존에 있는 컬럼내용을 변경할 때, 중괄호가 있는 경우는 새로운 컬럼을 만들어낼 때 사용 가능.\n",
    "csData.EMI = csData.EMI.astype(str)\n",
    "csData[\"test\"] = csData[\"EMI\"].astype(int)"
   ]
  },
  {
   "cell_type": "code",
   "execution_count": 37,
   "metadata": {},
   "outputs": [],
   "source": [
    "## 5. 여러가지 컬럼을 동시에 변경할 때\n",
    "\n",
    "csDataTypeStr = csData.astype({\"CUSTID\" : str, \"AVGPRICE\" : str, \"EMI\" : str, \n",
    "                           \"DEVICECOUNT\" : str, \"PRODUCTAGE\" : str, \"CUSTTYPE\" : str,\n",
    "                           \"test\" : str})\n",
    "targetEMI = \"3\"\n",
    "targetPRI = \"3500\"\n",
    "csData3 = csData.loc[(csData.EMI.astype(str) >= str(targetEMI)) &\n",
    "                    (csData.AVGPRICE.astype(str) > str(targetPRI))]"
   ]
  },
  {
   "cell_type": "code",
   "execution_count": 51,
   "metadata": {},
   "outputs": [],
   "source": [
    "## 6. 특정 항 배제하기\n",
    "\n",
    "# 배제할 조건 설정 및 데이터프레임화 (추출)\n",
    "angryCustomer = pd.DataFrame(list(csData.CUSTID[0:3]), columns = [\"CSID\"])\n",
    "\n",
    "# 리스트화 시켜준 뒤 해당 리스트에 not in 조건 부여\n",
    "angryList = list(angryCustomer.CSID)\n",
    "csData.loc[~csData.CUSTID.isin(angryList)]"
   ]
  },
  {
   "cell_type": "code",
   "execution_count": 57,
   "metadata": {},
   "outputs": [],
   "source": [
    "## 7. 인덱스를 통해 원하는 항 조회하기\n",
    "\n",
    "# 1, 3항에 대해서만 조회하기\n",
    "# 인덱스란, df 가장 좌측단에 위치하는 숫자에 해당한다.\n",
    "specifyedIndex = [1,3]\n",
    "test = csData.loc[specifyedIndex]"
   ]
  },
  {
   "cell_type": "code",
   "execution_count": 70,
   "metadata": {},
   "outputs": [],
   "source": [
    "## 8. 타겟컬럼 정의 및 조회\n",
    "targetcolumns = [\"CUSTID\", \"AVGPRICE\"]\n",
    "\n",
    "# 컬럼으로 접근하기 (직관적임)\n",
    "csDatatarget = csData.loc[ : , targetcolumns]\n",
    "csDatamanual = csData.loc[ : , \"CUSTID\" : \"EMI\"]\n",
    "\n",
    "# 인덱스로 접근하기 (코드의 형상관리 용이)\n",
    "csDataIndex = csData.loc[1:4, : ]\n",
    "csDataIndex2 = csData.iloc[0:1, : ]"
   ]
  },
  {
   "cell_type": "code",
   "execution_count": 73,
   "metadata": {},
   "outputs": [],
   "source": [
    "## 9. 추출한 데이터 인덱스번호 초기화하기\n",
    "emi3Data = csData.loc [csData.EMI ==3]\n",
    "\n",
    "# 기존 인덱스 삭제\n",
    "t1 = emi3Data.reset_index(drop = True)\n",
    "# t1 = emi3Data.reset_index(drop = True, inplace = False)\n",
    "# inplace 활용 시 코드를 더 가볍게 사용할 수 있다. (즉시 결과반영)\n",
    "\n",
    "# 기존 인덱스 보여줌 (좌측에 인덱스 컬럼 추가)\n",
    "t2 = emi3Data.reset_index(drop = False)"
   ]
  },
  {
   "cell_type": "code",
   "execution_count": 83,
   "metadata": {},
   "outputs": [
    {
     "data": {
      "text/html": [
       "<div>\n",
       "<style scoped>\n",
       "    .dataframe tbody tr th:only-of-type {\n",
       "        vertical-align: middle;\n",
       "    }\n",
       "\n",
       "    .dataframe tbody tr th {\n",
       "        vertical-align: top;\n",
       "    }\n",
       "\n",
       "    .dataframe thead th {\n",
       "        text-align: right;\n",
       "    }\n",
       "</style>\n",
       "<table border=\"1\" class=\"dataframe\">\n",
       "  <thead>\n",
       "    <tr style=\"text-align: right;\">\n",
       "      <th></th>\n",
       "      <th>CUSTID</th>\n",
       "      <th>AVGPRICE</th>\n",
       "      <th>EMI</th>\n",
       "      <th>DEVICECOUNT</th>\n",
       "      <th>PRODUCTAGE</th>\n",
       "      <th>CUSTTYPE</th>\n",
       "      <th>PRODUCTAGE_NEW</th>\n",
       "    </tr>\n",
       "  </thead>\n",
       "  <tbody>\n",
       "  </tbody>\n",
       "</table>\n",
       "</div>"
      ],
      "text/plain": [
       "Empty DataFrame\n",
       "Columns: [CUSTID, AVGPRICE, EMI, DEVICECOUNT, PRODUCTAGE, CUSTTYPE, PRODUCTAGE_NEW]\n",
       "Index: []"
      ]
     },
     "execution_count": 83,
     "metadata": {},
     "output_type": "execute_result"
    }
   ],
   "source": [
    "## 10. value의 범위별로 분류한 컬럼 추가하기\n",
    "\n",
    "# 1보다 작으면 1, 아니면 0 반영 및 새로운 칼럼을 작성하는 엑셀식 (1, 1, 0)\n",
    "# 각 자리에 여러가지 조건을 줄 수 있다. 예시는 else = 0의 자리에 조건을 추가한 것\n",
    "t3 = csData[\"PRODUCTAGE_NEW\"] = np.where(csData.PRODUCTAGE < 1, 1, \n",
    "                                         (np.where(csData.PRODUCTAGE < 2, 2, 3)))\n",
    "\n",
    "# 검산식\n",
    "csData.loc[(csData.PRODUCTAGE >= 1) & (csData.PRODUCTAGE_NEW != csData.PRODUCTAGE_NEW)]"
   ]
  },
  {
   "cell_type": "code",
   "execution_count": 87,
   "metadata": {},
   "outputs": [],
   "source": [
    "## 11. 함수식 선언을 통한 클러스터 적용\n",
    "\n",
    "def valueCluster(inValue):\n",
    "    outValue = inValue\n",
    "    \n",
    "    if inValue < 1:\n",
    "        outValue = 1\n",
    "    elif inValue < 2:\n",
    "        outValue = 2\n",
    "    else :\n",
    "        outValue = 3\n",
    "    return outValue\n",
    "\n",
    "csData[\"PRODUCTAGE_NEW\"] = csData.PRODUCTAGE.apply(valueCluster)"
   ]
  },
  {
   "cell_type": "code",
   "execution_count": 89,
   "metadata": {},
   "outputs": [],
   "source": [
    "## 12. loc의 활용\n",
    "\n",
    "# 선행조건이 없으면 작동하지 않고, 조건을 다중으로 부여해야 한다.\n",
    "# 특정부분을 찾아내기 용이하다.\n",
    "csData.loc[csData.PRODUCTAGE < 1, \"PRODUCTAGE_NEW\"] = 1\n",
    "csData.loc[(csData.PRODUCTAGE >= 1) & (csData.PRODUCTAGE < 2), \"PRODUCTAGE_NEW\"] = 2\n",
    "csData.loc[csData.PRODUCTAGE >= 2, \"PRODUCTAGE_NEW\"] = 3"
   ]
  },
  {
   "cell_type": "code",
   "execution_count": 91,
   "metadata": {},
   "outputs": [],
   "source": [
    "## 13. map함수\n",
    "\n",
    "featuresData = pd.read_csv(\"../../dataset/feature_regression_example.csv\", encoding = \"ms949\")\n",
    "ynMap = {\"Y\" : 1, \"N\" : 0}\n",
    "featuresData[\"HOLIDAY_NEW\"] = featuresData.HOLIDAY.map(ynMap)"
   ]
  },
  {
   "cell_type": "code",
   "execution_count": null,
   "metadata": {},
   "outputs": [],
   "source": [
    "## 14. 컬럼간 문자값 연산\n",
    "\n",
    "# CUSTID, EMI를 연산하려 함. 이 때 각 자료형은 str, int\n",
    "# 자료형 불문, 대문자나 소문자 변환 시에는 중간에 str을 써준다.\n",
    "# ex) csData.CUSTID.str.lower()\n",
    "csData[\"NEW_COL\"] = csData.CUSTID + \"_\" + csData.EMI.astype(str)"
   ]
  }
 ],
 "metadata": {
  "kernelspec": {
   "display_name": "Python 3",
   "language": "python",
   "name": "python3"
  },
  "language_info": {
   "codemirror_mode": {
    "name": "ipython",
    "version": 3
   },
   "file_extension": ".py",
   "mimetype": "text/x-python",
   "name": "python",
   "nbconvert_exporter": "python",
   "pygments_lexer": "ipython3",
   "version": "3.8.5"
  }
 },
 "nbformat": 4,
 "nbformat_minor": 4
}

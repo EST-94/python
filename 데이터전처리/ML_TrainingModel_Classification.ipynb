{
 "cells": [
  {
   "cell_type": "code",
   "execution_count": 49,
   "metadata": {},
   "outputs": [],
   "source": [
    "# 데이터 처리 라이브러리\n",
    "\n",
    "import pandas as pd\n",
    "import numpy as np\n",
    "\n",
    "# 머신러닝 라이브러리\n",
    "from sklearn.svm import SVC # 서포트 vector\n",
    "from sklearn.neighbors import KNeighborsClassifier # k neighbors\n",
    "\n",
    "# 데이터 전처리 라이브러리\n",
    "from sklearn.model_selection import train_test_split\n",
    "\n",
    "# classification metrix\n",
    "from sklearn.metrics import accuracy_score, f1_score, recall_score, precision_score"
   ]
  },
  {
   "cell_type": "code",
   "execution_count": 4,
   "metadata": {},
   "outputs": [
    {
     "data": {
      "text/plain": [
       "0     normal\n",
       "1    diamond\n",
       "4        vip\n",
       "Name: label, dtype: object"
      ]
     },
     "execution_count": 4,
     "metadata": {},
     "output_type": "execute_result"
    }
   ],
   "source": [
    "# 데이터 불러오기\n",
    "\n",
    "csData = pd.read_csv(\"../../dataset/customer.csv\")\n",
    "csData.label.drop_duplicates()"
   ]
  },
  {
   "cell_type": "markdown",
   "metadata": {},
   "source": [
    "### 1. 타입 통합 / 숫자형 컬럼 추가"
   ]
  },
  {
   "cell_type": "code",
   "execution_count": 8,
   "metadata": {},
   "outputs": [
    {
     "data": {
      "text/plain": [
       "balance     int64\n",
       "stock       int64\n",
       "label      object\n",
       "dtype: object"
      ]
     },
     "execution_count": 8,
     "metadata": {},
     "output_type": "execute_result"
    }
   ],
   "source": [
    "# skip\n",
    "csData.dtypes"
   ]
  },
  {
   "cell_type": "code",
   "execution_count": 10,
   "metadata": {},
   "outputs": [],
   "source": [
    "csData = csData.astype({\"balance\" : \"int\", \"stock\" : \"int\", \"label\" : \"object\"})"
   ]
  },
  {
   "cell_type": "markdown",
   "metadata": {},
   "source": [
    "### 2. 특성 선정 / 데이터 분리"
   ]
  },
  {
   "cell_type": "markdown",
   "metadata": {},
   "source": [
    "#### 2-1. 특성 선정"
   ]
  },
  {
   "cell_type": "code",
   "execution_count": 19,
   "metadata": {},
   "outputs": [],
   "source": [
    "# label_new를 통해 features를 찾기 위해 해당 값을 설정\n",
    "labelColumn = \"label_new\"\n",
    "corrStd = 0.5"
   ]
  },
  {
   "cell_type": "code",
   "execution_count": 13,
   "metadata": {},
   "outputs": [],
   "source": [
    "# label_encoder를 이용해서 자동으로 값을 매기거나, 딕셔너리를 통해 아랴처럼 할 수 있다.\n",
    "# 단, 전자의 경우 내가 원하는 값으로 밉핑하기 제한됨.\n",
    "\n",
    "labelMap = {\"normal\" : 0, \"diamond\" : 1, \"vip\" : 2}"
   ]
  },
  {
   "cell_type": "code",
   "execution_count": 17,
   "metadata": {},
   "outputs": [],
   "source": [
    "csData[labelColumn] = csData.label.map(labelMap)"
   ]
  },
  {
   "cell_type": "code",
   "execution_count": 21,
   "metadata": {},
   "outputs": [],
   "source": [
    "# 상관계수 생성 함수는 숫자형 컬럼에 대해서만 상관계수를 계산한다.\n",
    "corrDF = csData.corr()"
   ]
  },
  {
   "cell_type": "code",
   "execution_count": 30,
   "metadata": {},
   "outputs": [],
   "source": [
    "features = list(corrDF.loc[(abs(corrDF[labelColumn]) > corrStd) & (corrDF[labelColumn] != 1)].index)"
   ]
  },
  {
   "cell_type": "code",
   "execution_count": 56,
   "metadata": {},
   "outputs": [
    {
     "data": {
      "text/plain": [
       "['balance', 'stock']"
      ]
     },
     "execution_count": 56,
     "metadata": {},
     "output_type": "execute_result"
    }
   ],
   "source": [
    "features"
   ]
  },
  {
   "cell_type": "code",
   "execution_count": 27,
   "metadata": {},
   "outputs": [
    {
     "data": {
      "text/plain": [
       "{'_', 'a', 'b', 'e', 'l', 'n', 'w'}"
      ]
     },
     "execution_count": 27,
     "metadata": {},
     "output_type": "execute_result"
    }
   ],
   "source": [
    "set(labelColumn)"
   ]
  },
  {
   "cell_type": "code",
   "execution_count": 26,
   "metadata": {},
   "outputs": [
    {
     "data": {
      "text/plain": [
       "{'LABEL_NEW', 'balance', 'label', 'label_new', 'stock'}"
      ]
     },
     "execution_count": 26,
     "metadata": {},
     "output_type": "execute_result"
    }
   ],
   "source": [
    "# set는 차집합연산을 가능하게 해준다.\n",
    "set(features)"
   ]
  },
  {
   "cell_type": "markdown",
   "metadata": {},
   "source": [
    "#### 2-2. 데이터 분리 "
   ]
  },
  {
   "cell_type": "code",
   "execution_count": 42,
   "metadata": {},
   "outputs": [],
   "source": [
    "# feature값 확인 후 해당 라벨값 초기화\n",
    "labelColumn = \"label\"\n",
    "features = list(corrDF.loc[(abs(corrDF[labelColumn]) > corrStd) & (corrDF[labelColumn] != 1)].index)\n",
    "\n",
    "traningDataFeatures, \\\n",
    "testDataFeatures, \\\n",
    "trainingDataLabel, \\\n",
    "testDataLabel = \\\n",
    "train_test_split(csData.loc[:, features],\n",
    "                csData.loc[:, labelColumn],\n",
    "                random_state = 1,\n",
    "                test_size = 0.2)"
   ]
  },
  {
   "cell_type": "code",
   "execution_count": 37,
   "metadata": {},
   "outputs": [
    {
     "name": "stdout",
     "output_type": "stream",
     "text": [
      "         balance     stock\n",
      "7013   252000000  17500000\n",
      "7766   290000000  18000000\n",
      "5910   684000000  35333333\n",
      "7020   628000000  30000000\n",
      "16952  532000000  50666666\n",
      "...          ...       ...\n",
      "10955  792000000  28000000\n",
      "17289  780000000  30666666\n",
      "5192   306000000  22500000\n",
      "12172  708000000  74000000\n",
      "235    716000000  36666666\n",
      "\n",
      "[16000 rows x 2 columns]\n",
      "         balance     stock\n",
      "11456  744000000  38000000\n",
      "16528  724000000  32000000\n",
      "3253   704000000  27333333\n",
      "18614  240000000  30500000\n",
      "1544   258000000  28500000\n",
      "...          ...       ...\n",
      "6375   640000000  48666666\n",
      "14837  652000000  26000000\n",
      "3931   564000000  45333333\n",
      "18266  528000000  46000000\n",
      "12028  696000000  36666666\n",
      "\n",
      "[4000 rows x 2 columns]\n",
      "7013     0\n",
      "7766     0\n",
      "5910     1\n",
      "7020     1\n",
      "16952    1\n",
      "        ..\n",
      "10955    1\n",
      "17289    1\n",
      "5192     0\n",
      "12172    2\n",
      "235      1\n",
      "Name: label, Length: 16000, dtype: int64\n",
      "11456    1\n",
      "16528    1\n",
      "3253     1\n",
      "18614    0\n",
      "1544     0\n",
      "        ..\n",
      "6375     1\n",
      "14837    1\n",
      "3931     1\n",
      "18266    1\n",
      "12028    1\n",
      "Name: label, Length: 4000, dtype: int64\n"
     ]
    }
   ],
   "source": [
    "print(traningDataFeatures)\n",
    "print(testDataFeatures)\n",
    "print(trainingDataLabel)\n",
    "print(testDataLabel)"
   ]
  },
  {
   "cell_type": "markdown",
   "metadata": {},
   "source": [
    "### 3. 모델 선언 / 학습"
   ]
  },
  {
   "cell_type": "code",
   "execution_count": 50,
   "metadata": {},
   "outputs": [],
   "source": [
    "model_svm = SVC(random_state = 5)"
   ]
  },
  {
   "cell_type": "code",
   "execution_count": 51,
   "metadata": {},
   "outputs": [
    {
     "data": {
      "text/plain": [
       "SVC(C=1.0, break_ties=False, cache_size=200, class_weight=None, coef0=0.0,\n",
       "    decision_function_shape='ovr', degree=3, gamma='scale', kernel='rbf',\n",
       "    max_iter=-1, probability=False, random_state=5, shrinking=True, tol=0.001,\n",
       "    verbose=False)"
      ]
     },
     "execution_count": 51,
     "metadata": {},
     "output_type": "execute_result"
    }
   ],
   "source": [
    "model_svm.fit(traningDataFeatures, trainingDataLabel)"
   ]
  },
  {
   "cell_type": "markdown",
   "metadata": {},
   "source": [
    "### 4. 예측 "
   ]
  },
  {
   "cell_type": "code",
   "execution_count": 52,
   "metadata": {},
   "outputs": [],
   "source": [
    "predictSvm = model_svm.predict(testDataFeatures)"
   ]
  },
  {
   "cell_type": "markdown",
   "metadata": {},
   "source": [
    "### 5. 데이터 정리"
   ]
  },
  {
   "cell_type": "code",
   "execution_count": 53,
   "metadata": {},
   "outputs": [],
   "source": [
    "testDataAll = csData.loc[testDataLabel.index]"
   ]
  },
  {
   "cell_type": "code",
   "execution_count": 54,
   "metadata": {},
   "outputs": [],
   "source": [
    "testDataAll[\"predict_svm\"] = predictSvm"
   ]
  },
  {
   "cell_type": "markdown",
   "metadata": {},
   "source": [
    "### 6. 정확도 검증"
   ]
  },
  {
   "cell_type": "code",
   "execution_count": 55,
   "metadata": {},
   "outputs": [],
   "source": [
    "accuracy = accuracy_score(y_true = testDataAll.label,\n",
    "              y_pred = testDataAll.predict_svm)"
   ]
  },
  {
   "cell_type": "code",
   "execution_count": null,
   "metadata": {},
   "outputs": [],
   "source": [
    "testDataAll.to_clipboard(\"d:/svc_res.csv\", index = False)"
   ]
  },
  {
   "cell_type": "markdown",
   "metadata": {},
   "source": [
    "##### regression 의 경우 답지가 불가산이나,\n",
    "##### classification 의 경우 답지가 얼마 없어 정확도가 높다."
   ]
  }
 ],
 "metadata": {
  "kernelspec": {
   "display_name": "Python 3",
   "language": "python",
   "name": "python3"
  },
  "language_info": {
   "codemirror_mode": {
    "name": "ipython",
    "version": 3
   },
   "file_extension": ".py",
   "mimetype": "text/x-python",
   "name": "python",
   "nbconvert_exporter": "python",
   "pygments_lexer": "ipython3",
   "version": "3.8.5"
  }
 },
 "nbformat": 4,
 "nbformat_minor": 4
}

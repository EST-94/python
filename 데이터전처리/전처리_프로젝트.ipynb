{
 "cells": [
  {
   "cell_type": "markdown",
   "metadata": {},
   "source": [
    "# 데이터 전처리 _ 프로젝트 실습"
   ]
  },
  {
   "cell_type": "code",
   "execution_count": 1,
   "metadata": {},
   "outputs": [],
   "source": [
    "# 1.\n",
    "# selloutdata 자료에서 음수는 0, 양수는 기존값을 유지하는 QTY_NEW 컬럼 추가하기\n",
    "\n",
    "# 라이브러리 선언\n",
    "import pandas as pd\n",
    "import numpy as np\n",
    "\n",
    "# 데이터 불러오기\n",
    "selloutData = pd.read_csv(\"../../dataset/kopo_channel_seasonality_new.csv\", encoding = \"ms949\")\n",
    "\n",
    "# 필터링을 수행할 함수식 작성\n",
    "def valueCluster(inValue):\n",
    "    outValue = inValue\n",
    "    \n",
    "    if inValue < 0:\n",
    "        outValue = 0\n",
    "    else :\n",
    "        outValue = inValue\n",
    "    return outValue\n",
    "\n",
    "# 함수식 적용 및 저장\n",
    "selloutData[\"QTY_NEW\"] = selloutData.QTY.apply(valueCluster)\n",
    "\n",
    "# 검산식 (0이 나와야 함)\n",
    "# selloutData.QTY_NEW.min()"
   ]
  },
  {
   "cell_type": "code",
   "execution_count": 2,
   "metadata": {},
   "outputs": [],
   "source": [
    "# 2.\n",
    "# selloutdata 자료에서 year, week 컬럼을 생성하고 week가 52 이하인 데이터만 조회\n",
    "# refinedSelloutData 변수에 담기\n",
    "\n",
    "# 데이터 형변환\n",
    "yearweekStr = selloutData.astype({\"YEARWEEK\" : str})\n",
    "\n",
    "# year, week 컬럼 생성\n",
    "selloutData[\"YEAR\"] = yearweekStr.YEARWEEK.str[0:4]\n",
    "selloutData[\"WEEK\"] = yearweekStr.YEARWEEK.str[4:6]\n",
    "\n",
    "# 추출 목표 설정\n",
    "targetweeks = \"52\"\n",
    "\n",
    "# 필요내용 포함한 변수 지정\n",
    "refinedSelloutData = selloutData.loc[selloutData.WEEK <= targetweeks]\n",
    "\n",
    "# 검산식 (조회내용 없어야 함)\n",
    "# test = refinedSelloutData.loc[refinedSelloutData.WEEK > targetweeks]"
   ]
  },
  {
   "cell_type": "code",
   "execution_count": 4,
   "metadata": {},
   "outputs": [],
   "source": [
    "# 3.\n",
    "# refinedSelloutData에서 지역, 상품, 연주차 컬럼순으로 오름차순 정렬하여\n",
    "# sortedData 변수에 담기\n",
    "\n",
    "# 정렬 대상 key 변수지정\n",
    "sortkey = [\"REGIONID\", \"PRODUCT\", \"YEARWEEK\"]\n",
    "\n",
    "# 정렬 및 변수지정\n",
    "sortedData = refinedSelloutData.sort_values(by = sortkey, \n",
    "                                            ascending = [True, True, True], \n",
    "                                            ignore_index=False, inplace = False)"
   ]
  },
  {
   "cell_type": "code",
   "execution_count": 10,
   "metadata": {},
   "outputs": [],
   "source": [
    "# 4.\n",
    "# sortedData에서 지역, 상품, 연도 단위의 판매량(QTY_NEW) 평균 연산 후\n",
    "# groupData 변수에 담고, 이후 컬럼명을 QTY_MEAN으로 변경하기\n",
    "\n",
    "# 기준이 될 그룹키 지정\n",
    "groupkey = [\"REGIONID\", \"PRODUCT\", \"YEAR\"]\n",
    "\n",
    "# 변수 지정 및 평균값 산출\n",
    "# 그룹키가 인덱스가 되어 정렬하지 못하므로 이를 방지하기 위해 인덱스값을 초기화\n",
    "# 데이터 특징을 파악할 땐 reset_index() 가 아닌 describe() 가 용이하다.\n",
    "groupData = sortedData.groupby(by = groupkey)['QTY_NEW'].agg([\"mean\"]).reset_index()\n",
    "\n",
    "# 컬럼값 변경\n",
    "groupData = groupData.rename(columns = {'mean' : 'QTY_MEAN'})"
   ]
  },
  {
   "cell_type": "code",
   "execution_count": 13,
   "metadata": {},
   "outputs": [],
   "source": [
    "groupData[\"MA5\"] = groupData.QTY_MEAN.rolling(window = 5, \n",
    "                                            min_periods = 1, \n",
    "                                            center = True).mean()"
   ]
  },
  {
   "cell_type": "code",
   "execution_count": 14,
   "metadata": {},
   "outputs": [],
   "source": [
    "groupData[\"EFFECT\"] = groupData.QTY_MEAN / groupData.MA5"
   ]
  },
  {
   "cell_type": "code",
   "execution_count": 16,
   "metadata": {},
   "outputs": [
    {
     "data": {
      "text/plain": [
       "0    2014\n",
       "1    2015\n",
       "2    2016\n",
       "Name: YEAR, dtype: object"
      ]
     },
     "execution_count": 16,
     "metadata": {},
     "output_type": "execute_result"
    }
   ],
   "source": [
    "groupData.YEAR.drop_duplicates()"
   ]
  }
 ],
 "metadata": {
  "kernelspec": {
   "display_name": "Python 3",
   "language": "python",
   "name": "python3"
  },
  "language_info": {
   "codemirror_mode": {
    "name": "ipython",
    "version": 3
   },
   "file_extension": ".py",
   "mimetype": "text/x-python",
   "name": "python",
   "nbconvert_exporter": "python",
   "pygments_lexer": "ipython3",
   "version": "3.8.5"
  }
 },
 "nbformat": 4,
 "nbformat_minor": 4
}

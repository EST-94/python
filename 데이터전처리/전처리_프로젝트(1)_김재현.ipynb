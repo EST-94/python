{
 "cells": [
  {
   "cell_type": "code",
   "execution_count": 43,
   "metadata": {},
   "outputs": [],
   "source": [
    "# selloutdata 자료에서 year, week 컬럼을 생성하고 week가 52 이하인 데이터만 조회\n",
    "# refinedSelloutData 변수에 담기\n",
    "\n",
    "# 라이브러리 선언\n",
    "import pandas as pd\n",
    "import numpy as np\n",
    "\n",
    "# 데이터 불러오기\n",
    "selloutData = pd.read_csv(\"../../dataset/kopo_channel_seasonality_new.csv\", encoding = \"ms949\")\n",
    "\n",
    "# 데이터 형변환\n",
    "yearweekStr = selloutData.astype({\"YEARWEEK\" : str})\n",
    "\n",
    "# year, week 컬럼 생성\n",
    "selloutData[\"YEAR\"] = yearweekStr.YEARWEEK.str[0:4]\n",
    "selloutData[\"WEEK\"] = yearweekStr.YEARWEEK.str[4:6]\n",
    "\n",
    "# yearweek 컬럼 삭제\n",
    "del selloutData['YEARWEEK']\n",
    "\n",
    "# 추출 목표 설정\n",
    "targetweeks = \"52\"\n",
    "\n",
    "# 필요내용 포함한 변수 지정\n",
    "refinedSelloutData = selloutData.loc[selloutData.WEEK <= targetweeks]\n",
    "\n",
    "# 검산식\n",
    "test = refinedSelloutData.loc[refinedSelloutData.WEEK > targetweeks]"
   ]
  },
  {
   "cell_type": "code",
   "execution_count": 32,
   "metadata": {},
   "outputs": [],
   "source": [
    "# selloutdata 자료에서 음수는 0, 양수는 기존값을 유지하는 QTY_NEW 컬럼 추가하기\n",
    "\n",
    "# 라이브러리 선언\n",
    "import pandas as pd\n",
    "import numpy as np\n",
    "\n",
    "# 데이터 불러오기\n",
    "selloutData = pd.read_csv(\"../../dataset/kopo_channel_seasonality_new.csv\", encoding = \"ms949\")\n",
    "\n",
    "# 필터링을 수행할 함수식 작성\n",
    "def valueCluster(inValue):\n",
    "    outValue = inValue\n",
    "    \n",
    "    if inValue < 0:\n",
    "        outValue = 0\n",
    "    else :\n",
    "        outValue = inValue\n",
    "    return outValue\n",
    "\n",
    "# 함수식 적용 및 저장\n",
    "selloutData[\"QTY_NEW\"] = selloutData.QTY.apply(valueCluster)\n",
    "\n",
    "# 검산식\n",
    "selloutData.QTY_NEW.min()"
   ]
  }
 ],
 "metadata": {
  "kernelspec": {
   "display_name": "Python 3",
   "language": "python",
   "name": "python3"
  },
  "language_info": {
   "codemirror_mode": {
    "name": "ipython",
    "version": 3
   },
   "file_extension": ".py",
   "mimetype": "text/x-python",
   "name": "python",
   "nbconvert_exporter": "python",
   "pygments_lexer": "ipython3",
   "version": "3.8.5"
  }
 },
 "nbformat": 4,
 "nbformat_minor": 4
}

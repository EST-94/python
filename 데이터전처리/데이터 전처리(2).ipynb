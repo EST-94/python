{
 "cells": [
  {
   "cell_type": "markdown",
   "metadata": {},
   "source": [
    "# 데이터 전처리 (2)"
   ]
  },
  {
   "cell_type": "code",
   "execution_count": 28,
   "metadata": {},
   "outputs": [],
   "source": [
    "# 라이브러리 선언\n",
    "import pandas as pd\n",
    "import numpy as np\n",
    "\n",
    "# 데이터 불러오기\n",
    "csData = pd.read_csv(\"../../dataset/customerData.csv\", encoding = \"ms949\")"
   ]
  },
  {
   "cell_type": "code",
   "execution_count": 12,
   "metadata": {},
   "outputs": [],
   "source": [
    "## 1. 컬럼 값 기준 데이터 정렬하기\n",
    "\n",
    "# 정렬컬럼은 리스트화해서 다중부여가 가능하다.\n",
    "# sortkey 내부의 컬럼을 조정하여 여러 결과값을 분석할 수 있다.\n",
    "sortkey = [\"EMI\", \"AVGPRICE\"]\n",
    "\n",
    "# by = 정렬컬럼, ascending = 정렬기준(T/F), ignoreindex = 기존 인덱스, inplace = 반영여부\n",
    "# 변수부여 정렬\n",
    "csData.sort_values(by = sortkey, ascending = [False, False], ignore_index=False, inplace = False)\n",
    "# 변수미부여 정렬\n",
    "replacedData = csData.sort_values(by = [\"EMI\"], ascending = [False], ignore_index=False, inplace = False)"
   ]
  },
  {
   "cell_type": "code",
   "execution_count": 17,
   "metadata": {},
   "outputs": [
    {
     "data": {
      "text/html": [
       "<div>\n",
       "<style scoped>\n",
       "    .dataframe tbody tr th:only-of-type {\n",
       "        vertical-align: middle;\n",
       "    }\n",
       "\n",
       "    .dataframe tbody tr th {\n",
       "        vertical-align: top;\n",
       "    }\n",
       "\n",
       "    .dataframe thead th {\n",
       "        text-align: right;\n",
       "    }\n",
       "</style>\n",
       "<table border=\"1\" class=\"dataframe\">\n",
       "  <thead>\n",
       "    <tr style=\"text-align: right;\">\n",
       "      <th></th>\n",
       "      <th>size</th>\n",
       "    </tr>\n",
       "    <tr>\n",
       "      <th>EMI</th>\n",
       "      <th></th>\n",
       "    </tr>\n",
       "  </thead>\n",
       "  <tbody>\n",
       "    <tr>\n",
       "      <th>1</th>\n",
       "      <td>11</td>\n",
       "    </tr>\n",
       "    <tr>\n",
       "      <th>2</th>\n",
       "      <td>120</td>\n",
       "    </tr>\n",
       "    <tr>\n",
       "      <th>3</th>\n",
       "      <td>19</td>\n",
       "    </tr>\n",
       "  </tbody>\n",
       "</table>\n",
       "</div>"
      ],
      "text/plain": [
       "     size\n",
       "EMI      \n",
       "1      11\n",
       "2     120\n",
       "3      19"
      ]
     },
     "execution_count": 17,
     "metadata": {},
     "output_type": "execute_result"
    }
   ],
   "source": [
    "## 2. group by 구현하기 (집계함수)\n",
    "\n",
    "# dfname.groupby(['그룹키 컬럼'])['집계대상컬럼'].agg(['집계함수'])\n",
    "# 집계함수 : mean (평균), std (표준편차), min (최소), max (최대), size (사이즈)\n",
    "# 집계함수는 다중 적용이 가능하다.\n",
    "\n",
    "groupkey = [\"EMI\"]\n",
    "csData.groupby(by = groupkey)['AVGPRICE'].agg([\"size\"])\n",
    "# emi컬럼값을 기준으로 avgprice를 그룹으로 묶은 것, 각 emi값이 가진 avg값의 수를 보여줌. (size)"
   ]
  },
  {
   "cell_type": "code",
   "execution_count": 26,
   "metadata": {},
   "outputs": [],
   "source": [
    "## 3. 이동 집계함수\n",
    "\n",
    "# dfname.TARGETCOL.rolling(window = 00, min_periods = 00, center = True / False).mean()\n",
    "# window = 산출대상 길이, min = 최소 산출 가능길이, center = 중앙값 여하\n",
    "\n",
    "# inplace의 default값이 True.\n",
    "# min_periods가 없으면 상위, 하위 n개 행의 값이 NaN이 된다. (위로는 비교대상이 없기때문)\n",
    "# 해당 값의 지정 유무와 무관하게 값은 같다.\n",
    "\n",
    "# center는 true일 때 중앙값 기준 위 아래 n개, false일 때 위 n개로 이동평균을 산출한다.\n",
    "\n",
    "csData[\"roll_per2F\"] = csData.AVGPRICE.rolling(window = 5, \n",
    "                                            min_periods = 1, \n",
    "                                            center = True).mean()\n",
    "\n",
    "# 이동평균 산출을 통해 판매량을 MA5값으로 나누어 연주차별 예상 판매량 등을 예측할 수 있다."
   ]
  }
 ],
 "metadata": {
  "kernelspec": {
   "display_name": "Python 3",
   "language": "python",
   "name": "python3"
  },
  "language_info": {
   "codemirror_mode": {
    "name": "ipython",
    "version": 3
   },
   "file_extension": ".py",
   "mimetype": "text/x-python",
   "name": "python",
   "nbconvert_exporter": "python",
   "pygments_lexer": "ipython3",
   "version": "3.8.5"
  }
 },
 "nbformat": 4,
 "nbformat_minor": 4
}

{
 "cells": [
  {
   "cell_type": "markdown",
   "metadata": {},
   "source": [
    "##### Author : 김재현\n",
    "##### Created : 2021-06-23\n",
    "##### Description : 기능에 따라 해당 코드의 관련 정보를 확인 및 시각화. MACD, OSC 값을 기준으로 판단한다.\n",
    "##### \n",
    "##### \n",
    "##### 1. 기능\n",
    "##### seeAll = 4개월간 이동평균선이 상승국면에 있으나 1달간 단기 하락중인 종목 코드 리스트업\n",
    "##### select = 배당을 비롯한 세부정보 및 차트 제공 ** 해당 기능은 현재 미국 주식만 가능\n",
    "##### \n",
    "##### 2. 참고링크\n",
    "##### https://md2biz.tistory.com/397 각종 지표별 의미\n",
    "##### https://nakyup.tistory.com/5 각종 지표 가공\n",
    "##### https://m.blog.naver.com/silvury/221312883764 배당정보 크로울링"
   ]
  },
  {
   "cell_type": "code",
   "execution_count": 1,
   "metadata": {},
   "outputs": [],
   "source": [
    "# 필요한 라이브러리\n",
    "\n",
    "import FinanceDataReader as web\n",
    "import pandas_datareader.data as pdweb\n",
    "from datetime import date, timedelta\n",
    "import matplotlib.pyplot as plt\n",
    "import datetime as dt\n",
    "import pandas as pd\n",
    "import time\n",
    "\n",
    "import csv\n",
    "import urllib\n",
    "from bs4 import BeautifulSoup as bs\n",
    "\n",
    "from PIL import Image as pl\n",
    "\n",
    "%matplotlib inline"
   ]
  },
  {
   "cell_type": "code",
   "execution_count": 28,
   "metadata": {},
   "outputs": [
    {
     "name": "stdout",
     "output_type": "stream",
     "text": [
      "want to decide your settings? it will create data automatically.(y/n)\n"
     ]
    },
    {
     "name": "stdin",
     "output_type": "stream",
     "text": [
      " y\n"
     ]
    },
    {
     "name": "stdout",
     "output_type": "stream",
     "text": [
      "\n",
      "market list : \n",
      "KRX(한국전체), KOSPI(코스피전체), KOSDAQ(코스닥전체), KONEX(코넥스전체) - 배당 구현중\n",
      "NASDAQ(나스닥종목), NYSE(뉴욕증권거래소), AMEX(AMEX종목), SP500(S&P500 종목)\n",
      "\n",
      "'dayago' decieds your startday to crawl data. it needs to set 'dayago' at least 120. (1 year recommanded.)\n",
      "\n",
      "set your target market.\n"
     ]
    },
    {
     "name": "stdin",
     "output_type": "stream",
     "text": [
      " NASDAQ\n"
     ]
    },
    {
     "name": "stdout",
     "output_type": "stream",
     "text": [
      "set your 'dayago'.\n"
     ]
    },
    {
     "name": "stdin",
     "output_type": "stream",
     "text": [
      " 360\n"
     ]
    },
    {
     "name": "stdout",
     "output_type": "stream",
     "text": [
      "set result length.\n"
     ]
    },
    {
     "name": "stdin",
     "output_type": "stream",
     "text": [
      " 5\n"
     ]
    },
    {
     "name": "stdout",
     "output_type": "stream",
     "text": [
      "\n",
      "**** Data has been set. make sure ur market. if it doesn't match with the list above, then it will occur some errors. ****\n",
      "\n",
      "market :  NASDAQ\n",
      "startday(dayago) :  2020-06-28 ( 360 )\n",
      "result length :  5\n",
      "\n",
      "loading entire stockcode data from market..\n",
      "\n",
      "list already exists, proceed to next steps.\n",
      "select ur menus.\n",
      "\n",
      "seeAll = show all stock datas of market which u selected.\n",
      "search = search some stocks which you want, it will show charts and recent dividend infos.\n"
     ]
    },
    {
     "name": "stdin",
     "output_type": "stream",
     "text": [
      " search\n"
     ]
    },
    {
     "name": "stdout",
     "output_type": "stream",
     "text": [
      "input ur target stock code.\n"
     ]
    },
    {
     "name": "stdin",
     "output_type": "stream",
     "text": [
      " AAPL\n"
     ]
    },
    {
     "name": "stdout",
     "output_type": "stream",
     "text": [
      "you just searched  AAPL ,\n",
      "drawing complete.\n",
      "['selected stock code : ', 'AAPL', 'long-term in stock prices : rise', 'short-term in stock prices : rise', None]\n"
     ]
    },
    {
     "ename": "KeyboardInterrupt",
     "evalue": "Interrupted by user",
     "output_type": "error",
     "traceback": [
      "\u001b[1;31m---------------------------------------------------------------------------\u001b[0m",
      "\u001b[1;31mKeyboardInterrupt\u001b[0m                         Traceback (most recent call last)",
      "\u001b[1;32m<ipython-input-28-a547155e83c8>\u001b[0m in \u001b[0;36m<module>\u001b[1;34m\u001b[0m\n\u001b[0;32m     12\u001b[0m \u001b[0mstockCode\u001b[0m \u001b[1;33m=\u001b[0m \u001b[1;34m\"\"\u001b[0m\u001b[1;33m\u001b[0m\u001b[1;33m\u001b[0m\u001b[0m\n\u001b[0;32m     13\u001b[0m \u001b[1;33m\u001b[0m\u001b[0m\n\u001b[1;32m---> 14\u001b[1;33m \u001b[0mmain\u001b[0m\u001b[1;33m(\u001b[0m\u001b[1;33m)\u001b[0m\u001b[1;33m\u001b[0m\u001b[1;33m\u001b[0m\u001b[0m\n\u001b[0m",
      "\u001b[1;32m<ipython-input-14-4e31332547dd>\u001b[0m in \u001b[0;36mmain\u001b[1;34m()\u001b[0m\n\u001b[0;32m     24\u001b[0m \u001b[1;33m\u001b[0m\u001b[0m\n\u001b[0;32m     25\u001b[0m     \u001b[1;32mwhile\u001b[0m\u001b[1;33m(\u001b[0m\u001b[1;32mTrue\u001b[0m\u001b[1;33m)\u001b[0m\u001b[1;33m:\u001b[0m\u001b[1;33m\u001b[0m\u001b[1;33m\u001b[0m\u001b[0m\n\u001b[1;32m---> 26\u001b[1;33m         \u001b[0mmenubtn\u001b[0m \u001b[1;33m=\u001b[0m \u001b[0minput\u001b[0m\u001b[1;33m(\u001b[0m\u001b[1;33m)\u001b[0m\u001b[1;33m\u001b[0m\u001b[1;33m\u001b[0m\u001b[0m\n\u001b[0m\u001b[0;32m     27\u001b[0m         \u001b[1;32mif\u001b[0m \u001b[0mmenubtn\u001b[0m \u001b[1;33m==\u001b[0m \u001b[1;34m\"seeAll\"\u001b[0m\u001b[1;33m:\u001b[0m\u001b[1;33m\u001b[0m\u001b[1;33m\u001b[0m\u001b[0m\n\u001b[0;32m     28\u001b[0m             \u001b[0mget_recommanded\u001b[0m\u001b[1;33m(\u001b[0m\u001b[0mtrigger\u001b[0m\u001b[1;33m)\u001b[0m\u001b[1;33m\u001b[0m\u001b[1;33m\u001b[0m\u001b[0m\n",
      "\u001b[1;32m~\\anaconda3\\lib\\site-packages\\ipykernel\\kernelbase.py\u001b[0m in \u001b[0;36mraw_input\u001b[1;34m(self, prompt)\u001b[0m\n\u001b[0;32m    858\u001b[0m                 \u001b[1;34m\"raw_input was called, but this frontend does not support input requests.\"\u001b[0m\u001b[1;33m\u001b[0m\u001b[1;33m\u001b[0m\u001b[0m\n\u001b[0;32m    859\u001b[0m             )\n\u001b[1;32m--> 860\u001b[1;33m         return self._input_request(str(prompt),\n\u001b[0m\u001b[0;32m    861\u001b[0m             \u001b[0mself\u001b[0m\u001b[1;33m.\u001b[0m\u001b[0m_parent_ident\u001b[0m\u001b[1;33m,\u001b[0m\u001b[1;33m\u001b[0m\u001b[1;33m\u001b[0m\u001b[0m\n\u001b[0;32m    862\u001b[0m             \u001b[0mself\u001b[0m\u001b[1;33m.\u001b[0m\u001b[0m_parent_header\u001b[0m\u001b[1;33m,\u001b[0m\u001b[1;33m\u001b[0m\u001b[1;33m\u001b[0m\u001b[0m\n",
      "\u001b[1;32m~\\anaconda3\\lib\\site-packages\\ipykernel\\kernelbase.py\u001b[0m in \u001b[0;36m_input_request\u001b[1;34m(self, prompt, ident, parent, password)\u001b[0m\n\u001b[0;32m    902\u001b[0m             \u001b[1;32mexcept\u001b[0m \u001b[0mKeyboardInterrupt\u001b[0m\u001b[1;33m:\u001b[0m\u001b[1;33m\u001b[0m\u001b[1;33m\u001b[0m\u001b[0m\n\u001b[0;32m    903\u001b[0m                 \u001b[1;31m# re-raise KeyboardInterrupt, to truncate traceback\u001b[0m\u001b[1;33m\u001b[0m\u001b[1;33m\u001b[0m\u001b[1;33m\u001b[0m\u001b[0m\n\u001b[1;32m--> 904\u001b[1;33m                 \u001b[1;32mraise\u001b[0m \u001b[0mKeyboardInterrupt\u001b[0m\u001b[1;33m(\u001b[0m\u001b[1;34m\"Interrupted by user\"\u001b[0m\u001b[1;33m)\u001b[0m \u001b[1;32mfrom\u001b[0m \u001b[1;32mNone\u001b[0m\u001b[1;33m\u001b[0m\u001b[1;33m\u001b[0m\u001b[0m\n\u001b[0m\u001b[0;32m    905\u001b[0m             \u001b[1;32mexcept\u001b[0m \u001b[0mException\u001b[0m \u001b[1;32mas\u001b[0m \u001b[0me\u001b[0m\u001b[1;33m:\u001b[0m\u001b[1;33m\u001b[0m\u001b[1;33m\u001b[0m\u001b[0m\n\u001b[0;32m    906\u001b[0m                 \u001b[0mself\u001b[0m\u001b[1;33m.\u001b[0m\u001b[0mlog\u001b[0m\u001b[1;33m.\u001b[0m\u001b[0mwarning\u001b[0m\u001b[1;33m(\u001b[0m\u001b[1;34m\"Invalid Message:\"\u001b[0m\u001b[1;33m,\u001b[0m \u001b[0mexc_info\u001b[0m\u001b[1;33m=\u001b[0m\u001b[1;32mTrue\u001b[0m\u001b[1;33m)\u001b[0m\u001b[1;33m\u001b[0m\u001b[1;33m\u001b[0m\u001b[0m\n",
      "\u001b[1;31mKeyboardInterrupt\u001b[0m: Interrupted by user"
     ]
    },
    {
     "data": {
      "image/png": "[encoded data removed]",
      "text/plain": [
       "<Figure size 1440x720 with 2 Axes>"
      ]
     },
     "metadata": {
      "needs_background": "light"
     },
     "output_type": "display_data"
    }
   ],
   "source": [
    "# 필요값 (전역변수) 및 실행\n",
    "\n",
    "market = \"\"\n",
    "today = date.today()\n",
    "startday = date.today() - timedelta(360)\n",
    "yesterday = date.today() - timedelta(1)\n",
    "trigger = 0\n",
    "allResStr = [\"recommanded stocks : \"]\n",
    "schResStr = [\"selected stock code : \"]\n",
    "resChart = plt\n",
    "SEC = web\n",
    "stockCode = \"\"\n",
    "\n",
    "main()"
   ]
  },
  {
   "cell_type": "code",
   "execution_count": 14,
   "metadata": {},
   "outputs": [],
   "source": [
    "# 전체 가동 코드\n",
    "\n",
    "def main():\n",
    "\n",
    "    print(\"want to decide your settings? it will create data automatically.(y/n)\")\n",
    "\n",
    "    while(True):\n",
    "        menubtn = input()\n",
    "        print(\"\")\n",
    "        if menubtn == \"y\":\n",
    "            settings()\n",
    "            time.sleep(3)\n",
    "            create_data(market)\n",
    "            break\n",
    "        elif menubtn == \"n\":\n",
    "            break\n",
    "        else:\n",
    "            print(\"selected wrong button, want to decide your settings?(y/n)\")\n",
    "\n",
    "    print(\"select ur menus.\")\n",
    "    print(\"\")\n",
    "    print(\"seeAll = show all stock datas of market which u selected.\")\n",
    "    print(\"search = search some stocks which you want, it will show charts and recent dividend infos.\")\n",
    "\n",
    "    while(True):\n",
    "        menubtn = input()\n",
    "        if menubtn == \"seeAll\":\n",
    "            get_recommanded(trigger)\n",
    "            print(allResStr)\n",
    "        elif menubtn == \"search\":\n",
    "            get_searched()\n",
    "            print(schResStr)\n",
    "            chart = pl.open('./chartSet/searchedChart_' + str(stockCode) + '.png')\n",
    "            chart.show()\n",
    "        else:\n",
    "            print(\"you just selected wrong menu.\")\n",
    "            print(\"\")"
   ]
  },
  {
   "cell_type": "code",
   "execution_count": 3,
   "metadata": {},
   "outputs": [],
   "source": [
    "# seeAll - 기본 클래스\n",
    "# trigger에 설정된 수만큼 조건에 맞는 회사의 코드를 리턴한다.\n",
    "\n",
    "def get_recommanded(trigger):\n",
    "    \n",
    "    codefilename = './stockDataSet/marketList_' + str(market) + '.csv'\n",
    "    count = 0\n",
    "    global allResStr\n",
    "\n",
    "    try:\n",
    "        with open(codefilename, 'r', newline='') as file:\n",
    "            print(\"loading entire data complete.\")\n",
    "\n",
    "            codefilename = pd.read_csv(\"./stockDataSet/marketList_NASDAQ.csv\")\n",
    "            symbolList = codefilename.loc[:, \"Symbol\"]\n",
    "        \n",
    "        for i in range (0, len(symbolList)):\n",
    "\n",
    "            SEC = web.DataReader(symbolList[i], startday, yesterday).reset_index()\n",
    "            SEC[\"MA_12\"]=SEC[\"Close\"].ewm(span=12).mean()\n",
    "            SEC[\"MA_26\"]=SEC[\"Close\"].ewm(span=26).mean()\n",
    "            SEC[\"MA_50\"]=SEC[\"Close\"].ewm(span=50).mean()\n",
    "            SEC[\"MA_120\"]=SEC[\"Close\"].ewm(span=120).mean()\n",
    "            SEC[\"MACD_long\"] = SEC.apply(lambda x: (x[\"MA_50\"]-x[\"MA_120\"]), axis=1)\n",
    "            SEC[\"MACD_short\"] = SEC.apply(lambda x: (x[\"MA_12\"]-x[\"MA_26\"]), axis=1)\n",
    "            SEC[\"MACD_signal\"] = SEC[\"MACD_short\"].ewm(span=9).mean()\n",
    "            SEC[\"MACD_oscillator\"] = SEC.apply(lambda x:(x[\"MACD_short\"]-x[\"MACD_signal\"]), axis=1)\n",
    "\n",
    "            # 비교대상 값 불러옴 - MACD, 오늘 기준 OSC, 3일 전 OSC\n",
    "            resList = [float(SEC.loc[len(SEC)-1:len(SEC), \"MACD_long\"]), \n",
    "                       float(SEC.loc[len(SEC)-1:len(SEC), \"MACD_oscillator\"])]\n",
    "            print(trigger)\n",
    "            print(count)\n",
    "            if (resList[0] > 0):\n",
    "                \n",
    "                if (resList[1] < 0):\n",
    "                    allResStr.append(symbolList[i] + \", \")\n",
    "                    count += 1\n",
    "                    print(symbolList[i], \"appended++\")\n",
    "                    \n",
    "                    if (count == int(trigger)):\n",
    "                        break\n",
    "\n",
    "    except:\n",
    "        print(\"loading error occured, restart session and reset your settings.\")"
   ]
  },
  {
   "cell_type": "code",
   "execution_count": 27,
   "metadata": {},
   "outputs": [],
   "source": [
    "# search - 검색 주식 정보 출력\n",
    "def get_searched():\n",
    "    \n",
    "    global schResStr\n",
    "    global startday\n",
    "    global yesterday\n",
    "    global SEC\n",
    "    global stockCode\n",
    "\n",
    "    startday = date.today() - timedelta(120)\n",
    "\n",
    "    print(\"input ur target stock code.\")\n",
    "    stockCode = input()\n",
    "\n",
    "    print(\"you just searched \", stockCode, \",\")\n",
    "\n",
    "    try:\n",
    "        SEC = web.DataReader(stockCode, startday, yesterday)\n",
    "\n",
    "    except:\n",
    "        print(\"your stock code doesn't exist in List.\")\n",
    "\n",
    "    schResStr.append(stockCode)\n",
    "    SEC[\"MA_12\"]=SEC[\"Close\"].ewm(span=12).mean()\n",
    "    SEC[\"MA_26\"]=SEC[\"Close\"].ewm(span=26).mean()\n",
    "    SEC[\"MA_50\"]=SEC[\"Close\"].ewm(span=50).mean()\n",
    "    SEC[\"MA_120\"]=SEC[\"Close\"].ewm(span=120).mean()\n",
    "    SEC[\"MACD_long\"] = SEC.apply(lambda x: (x[\"MA_50\"]-x[\"MA_120\"]), axis=1)\n",
    "    SEC[\"MACD_short\"] = SEC.apply(lambda x: (x[\"MA_12\"]-x[\"MA_26\"]), axis=1)\n",
    "    SEC[\"MACD_signal\"] = SEC[\"MACD_short\"].ewm(span=9).mean()\n",
    "    SEC[\"MACD_oscillator\"] = SEC.apply(lambda x:(x[\"MACD_short\"]-x[\"MACD_signal\"]), axis=1)\n",
    "\n",
    "    # 차트 형성\n",
    "    get_draw_selected(stockCode, SEC)\n",
    "\n",
    "    # 마지막 행의 값을 추출하기 위해 인덱스 리셋\n",
    "    SEC = SEC.reset_index()\n",
    "\n",
    "    resList = [float(SEC.loc[len(SEC)-1:len(SEC), \"MACD_long\"]), \n",
    "                float(SEC.loc[len(SEC)-1:len(SEC), \"MACD_oscillator\"])]\n",
    "\n",
    "    if (resList[0] < 0):\n",
    "        schResStr.append(\"long-term in stock prices : decline\")\n",
    "    else:\n",
    "        schResStr.append(\"long-term in stock prices : rise\")\n",
    "\n",
    "    if (resList[1] < 0):\n",
    "        schResStr.append(\"short-term in stock prices : decline\")\n",
    "    else:\n",
    "        schResStr.append(\"short-term in stock prices : rise\")\n",
    "        \n",
    "    # 배당정보 형성\n",
    "        \n",
    "    schResStr.append(get_dividend_data(stockCode))"
   ]
  },
  {
   "cell_type": "code",
   "execution_count": 5,
   "metadata": {},
   "outputs": [],
   "source": [
    "# search - 차트 도식 및 저장\n",
    "def get_draw_selected(stockCode, SEC):\n",
    "    \n",
    "    try:\n",
    "        fig = plt.figure(figsize = (20, 10))\n",
    "\n",
    "        x = SEC.index\n",
    "        y = SEC['Close']\n",
    "        y2 = SEC['MACD_short']\n",
    "        y3 = SEC['MACD_signal']\n",
    "\n",
    "        ax1 = fig.add_subplot(2,1,1)\n",
    "        ax2 = fig.add_subplot(2,1,2)\n",
    "\n",
    "        ax1.plot(x, y, \"b\", label = \"price\")\n",
    "        ax1.legend(loc = 1)\n",
    "        ax2.plot(x, y2, \"g\", label = \"MACD_short\")\n",
    "        ax2.plot(x, y3, \"r\", label = \"MACD_signal\")\n",
    "        ax2.legend(loc = 1)\n",
    "\n",
    "        plt.savefig('./chartSet/searchedChart_' + str(stockCode) + '.png')\n",
    "        print(\"drawing complete.\")\n",
    "\n",
    "    except:\n",
    "        print(\"drawing error.\")"
   ]
  },
  {
   "cell_type": "code",
   "execution_count": 6,
   "metadata": {},
   "outputs": [],
   "source": [
    "# search - 배당정보 형성 클래스 생성\n",
    "\n",
    "def set_dividend_data(stockCode):\n",
    "    \n",
    "    divdata = []\n",
    "    url = \"https://finance.yahoo.com/quote/\" + stockCode + \"?p=\" + stockCode\n",
    "    rows = bs(urllib.request.urlopen(url).read()).findAll('table')[1].tbody.findAll('tr')\n",
    "\n",
    "    for i in rows:\n",
    "        divs = i.findAll('td')\n",
    "        if 'Forward Dividend' in str(divs[0]):\n",
    "            div_and_yield = divs[1].text\n",
    "            dividend, div_yield = div_and_yield.split(\" \")\n",
    "            a = div_yield.replace(\"(\",\"\")\n",
    "            b = a.replace(\")\",\"\")\n",
    "            divdata.append([float(dividend), str(b)])\n",
    "    return divdata"
   ]
  },
  {
   "cell_type": "code",
   "execution_count": 29,
   "metadata": {},
   "outputs": [],
   "source": [
    "# search - 배당정보 appender\n",
    "\n",
    "def get_dividend_data(stockCode):\n",
    "    \n",
    "    rows = []\n",
    "    df = pdweb.DataReader(stockCode, 'yahoo', startday, yesterday)\n",
    "    dividend_data = set_dividend_data(stockCode)\n",
    "    row = [stockCode, dividend_data[0][0], dividend_data[0][1], round(float(df.iloc[-1][0]),2)]\n",
    "    rows.append(row)"
   ]
  },
  {
   "cell_type": "code",
   "execution_count": 8,
   "metadata": {},
   "outputs": [],
   "source": [
    "# 가동일 기준 데이터를 로드, 스톡리스트를 생성해줄 클래스 생성\n",
    "\n",
    "def create_data(market):\n",
    "    \n",
    "    codefilename = './stockDataSet/marketList_' + str(market) + '.csv'\n",
    "    \n",
    "    # 목표 시장 선택 및 데이터 로드\n",
    "    print(\"loading entire stockcode data from market..\")\n",
    "    print(\"\")\n",
    "    try:\n",
    "        # file 존재여부 확인\n",
    "        with open(codefilename, 'r', newline='') as file:\n",
    "            print(\"list already exists, proceed to next steps.\")\n",
    "    except:\n",
    "        try:\n",
    "            print(\"\")\n",
    "            print(\"list none-exists. load marketList which you requested.\")\n",
    "            targetMarket = web.StockListing(market)\n",
    "            print(\"loading complete. making lists..\")\n",
    "            print(\"\")\n",
    "\n",
    "            targetMarket.to_csv('./stockDataSet/marketList_' + str(market) + '.csv')\n",
    "            print(\"list created, initialize to next steps.\")\n",
    "\n",
    "        except:\n",
    "            time.sleep(3)\n",
    "            print(\"\")\n",
    "            print(\"loading error occured, please try again or check ur status.\")"
   ]
  },
  {
   "cell_type": "code",
   "execution_count": 9,
   "metadata": {},
   "outputs": [],
   "source": [
    "# 기본값 입력받을 클래스\n",
    "def settings():\n",
    "    \n",
    "    print(\"market list : \")\n",
    "    print(\"KRX(한국전체), KOSPI(코스피전체), KOSDAQ(코스닥전체), KONEX(코넥스전체) - 배당 구현중\")\n",
    "    print(\"NASDAQ(나스닥종목), NYSE(뉴욕증권거래소), AMEX(AMEX종목), SP500(S&P500 종목)\")\n",
    "    print(\"\")\n",
    "    print(\"'dayago' decieds your startday to crawl data. it needs to set 'dayago' at least 120. (1 year recommanded.)\")\n",
    "    print(\"\")\n",
    "\n",
    "    \n",
    "    print(\"set your target market.\")\n",
    "    global market\n",
    "    market = input()\n",
    "    \n",
    "    print(\"set your 'dayago'.\")\n",
    "    dayago = input()\n",
    "    \n",
    "    print(\"set result length.\")\n",
    "    global trigger\n",
    "    trigger = input()\n",
    "\n",
    "    global startday\n",
    "    startday = date.today() - timedelta(int(dayago))\n",
    "        \n",
    "    print(\"\")\n",
    "    print(\"**** Data has been set. make sure ur market. if it doesn't match with the list above, then it will occur some errors. ****\")\n",
    "    print(\"\")\n",
    "\n",
    "    print(\"market : \", market)\n",
    "    print(\"startday(dayago) : \", startday, \"(\", dayago, \")\")\n",
    "    print(\"result length : \", trigger)\n",
    "    print(\"\")"
   ]
  }
 ],
 "metadata": {
  "kernelspec": {
   "display_name": "Python 3",
   "language": "python",
   "name": "python3"
  },
  "language_info": {
   "codemirror_mode": {
    "name": "ipython",
    "version": 3
   },
   "file_extension": ".py",
   "mimetype": "text/x-python",
   "name": "python",
   "nbconvert_exporter": "python",
   "pygments_lexer": "ipython3",
   "version": "3.8.5"
  }
 },
 "nbformat": 4,
 "nbformat_minor": 4
}

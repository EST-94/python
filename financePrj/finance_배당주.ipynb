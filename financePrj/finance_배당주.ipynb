{
 "cells": [
  {
   "cell_type": "code",
   "execution_count": null,
   "metadata": {},
   "outputs": [],
   "source": [
    "# 특정 종목의 코드를 받으면, 해당 코드의 관련 정보를 확인 후 매수 추천여부를 알려준다.\n",
    "\n",
    "# 1. 기능\n",
    "# = 코드 입력 시 해당 주가 매수추천여부 출력 (financeDatareader 이용, 시세차익) / 배당 per 등 배당 관련 정보 출력 / 전체 주가그래프 제시\n"
   ]
  },
  {
   "cell_type": "code",
   "execution_count": 1,
   "metadata": {},
   "outputs": [],
   "source": [
    "# 필요한 라이브러리\n",
    "\n",
    "import FinanceDataReader as web\n",
    "from datetime import date, timedelta\n",
    "import matplotlib.pyplot as plt\n",
    "import datetime as dt\n",
    "import pandas as pd\n",
    "import time\n",
    "\n",
    "import csv\n",
    "import urlib\n",
    "from bs4 import BeautifulSoup as bs\n",
    "\n",
    "%matplotlib inline"
   ]
  },
  {
   "cell_type": "code",
   "execution_count": 7,
   "metadata": {},
   "outputs": [],
   "source": [
    "# 필요값 (전역변수)\n",
    "\n",
    "market =\"\"\n",
    "today = date.today()\n",
    "startday = date.today() - timedelta(1)\n",
    "yesterday = date.today() - timedelta(1)"
   ]
  },
  {
   "cell_type": "code",
   "execution_count": 15,
   "metadata": {
    "collapsed": true,
    "jupyter": {
     "outputs_hidden": true
    }
   },
   "outputs": [
    {
     "name": "stdout",
     "output_type": "stream",
     "text": [
      "want to decide your settings? it will create data automatically.(y/n)\n"
     ]
    },
    {
     "name": "stdin",
     "output_type": "stream",
     "text": [
      " y\n"
     ]
    },
    {
     "name": "stdout",
     "output_type": "stream",
     "text": [
      "\n",
      "market list : \n",
      "KRX(한국전체), KOSPI(코스피전체), KOSDAQ(코스닥전체), KONEX(코넥스전체)\n",
      "NASDAQ(나스닥종목), NYSE(뉴욕증권거래소), AMEX(AMEX종목), SP500(S&P500 종목)\n",
      "\n",
      "'dayago' decieds your startday to crawl data. we recommand to set 'dayago' at least 1 year. (365)\n",
      "\n",
      "set your target market.\n"
     ]
    },
    {
     "name": "stdin",
     "output_type": "stream",
     "text": [
      " NASDAQ\n"
     ]
    },
    {
     "name": "stdout",
     "output_type": "stream",
     "text": [
      "set your 'dayago'.\n"
     ]
    },
    {
     "name": "stdin",
     "output_type": "stream",
     "text": [
      " 360\n"
     ]
    },
    {
     "name": "stderr",
     "output_type": "stream",
     "text": [
      "  2%|█▏                                                                             | 60/3878 [00:00<00:09, 419.23it/s]"
     ]
    },
    {
     "name": "stdout",
     "output_type": "stream",
     "text": [
      "\n",
      "**** Data has been set. make sure ur market. if it incorrect with the list above, then it will occur some errors. ****\n",
      "\n",
      "market :  NASDAQ\n",
      "startday(dayago) :  2020-06-26 ( 360 )\n",
      "\n",
      "loading entire stockcode data from market..\n",
      "list none-exists. load marketList which you requested.\n"
     ]
    },
    {
     "name": "stderr",
     "output_type": "stream",
     "text": [
      "100%|█████████████████████████████████████████████████████████████████████████████| 3878/3878 [00:07<00:00, 488.39it/s]\n"
     ]
    },
    {
     "name": "stdout",
     "output_type": "stream",
     "text": [
      "loading complete. making lists..\n",
      "list created, initialize to next steps.\n",
      "select ur menus.\n",
      "\n",
      "seeAll = show all stock datas of market which u selected.\n",
      "search = search some stocks which you want, it will show charts and dividend infos.\n"
     ]
    },
    {
     "ename": "KeyboardInterrupt",
     "evalue": "Interrupted by user",
     "output_type": "error",
     "traceback": [
      "\u001b[1;31m---------------------------------------------------------------------------\u001b[0m",
      "\u001b[1;31mKeyboardInterrupt\u001b[0m                         Traceback (most recent call last)",
      "\u001b[1;32m<ipython-input-15-2865f5147192>\u001b[0m in \u001b[0;36m<module>\u001b[1;34m\u001b[0m\n\u001b[0;32m     20\u001b[0m \u001b[0mprint\u001b[0m\u001b[1;33m(\u001b[0m\u001b[1;34m\"search = search some stocks which you want, it will show charts and dividend infos.\"\u001b[0m\u001b[1;33m)\u001b[0m\u001b[1;33m\u001b[0m\u001b[1;33m\u001b[0m\u001b[0m\n\u001b[0;32m     21\u001b[0m \u001b[1;33m\u001b[0m\u001b[0m\n\u001b[1;32m---> 22\u001b[1;33m \u001b[0mmenubtn\u001b[0m \u001b[1;33m=\u001b[0m \u001b[0minput\u001b[0m\u001b[1;33m(\u001b[0m\u001b[1;33m)\u001b[0m\u001b[1;33m\u001b[0m\u001b[1;33m\u001b[0m\u001b[0m\n\u001b[0m\u001b[0;32m     23\u001b[0m \u001b[1;33m\u001b[0m\u001b[0m\n\u001b[0;32m     24\u001b[0m \u001b[1;32mwhile\u001b[0m\u001b[1;33m(\u001b[0m\u001b[1;32mTrue\u001b[0m\u001b[1;33m)\u001b[0m\u001b[1;33m:\u001b[0m\u001b[1;33m\u001b[0m\u001b[1;33m\u001b[0m\u001b[0m\n",
      "\u001b[1;32m~\\anaconda3\\lib\\site-packages\\ipykernel\\kernelbase.py\u001b[0m in \u001b[0;36mraw_input\u001b[1;34m(self, prompt)\u001b[0m\n\u001b[0;32m    858\u001b[0m                 \u001b[1;34m\"raw_input was called, but this frontend does not support input requests.\"\u001b[0m\u001b[1;33m\u001b[0m\u001b[1;33m\u001b[0m\u001b[0m\n\u001b[0;32m    859\u001b[0m             )\n\u001b[1;32m--> 860\u001b[1;33m         return self._input_request(str(prompt),\n\u001b[0m\u001b[0;32m    861\u001b[0m             \u001b[0mself\u001b[0m\u001b[1;33m.\u001b[0m\u001b[0m_parent_ident\u001b[0m\u001b[1;33m,\u001b[0m\u001b[1;33m\u001b[0m\u001b[1;33m\u001b[0m\u001b[0m\n\u001b[0;32m    862\u001b[0m             \u001b[0mself\u001b[0m\u001b[1;33m.\u001b[0m\u001b[0m_parent_header\u001b[0m\u001b[1;33m,\u001b[0m\u001b[1;33m\u001b[0m\u001b[1;33m\u001b[0m\u001b[0m\n",
      "\u001b[1;32m~\\anaconda3\\lib\\site-packages\\ipykernel\\kernelbase.py\u001b[0m in \u001b[0;36m_input_request\u001b[1;34m(self, prompt, ident, parent, password)\u001b[0m\n\u001b[0;32m    902\u001b[0m             \u001b[1;32mexcept\u001b[0m \u001b[0mKeyboardInterrupt\u001b[0m\u001b[1;33m:\u001b[0m\u001b[1;33m\u001b[0m\u001b[1;33m\u001b[0m\u001b[0m\n\u001b[0;32m    903\u001b[0m                 \u001b[1;31m# re-raise KeyboardInterrupt, to truncate traceback\u001b[0m\u001b[1;33m\u001b[0m\u001b[1;33m\u001b[0m\u001b[1;33m\u001b[0m\u001b[0m\n\u001b[1;32m--> 904\u001b[1;33m                 \u001b[1;32mraise\u001b[0m \u001b[0mKeyboardInterrupt\u001b[0m\u001b[1;33m(\u001b[0m\u001b[1;34m\"Interrupted by user\"\u001b[0m\u001b[1;33m)\u001b[0m \u001b[1;32mfrom\u001b[0m \u001b[1;32mNone\u001b[0m\u001b[1;33m\u001b[0m\u001b[1;33m\u001b[0m\u001b[0m\n\u001b[0m\u001b[0;32m    905\u001b[0m             \u001b[1;32mexcept\u001b[0m \u001b[0mException\u001b[0m \u001b[1;32mas\u001b[0m \u001b[0me\u001b[0m\u001b[1;33m:\u001b[0m\u001b[1;33m\u001b[0m\u001b[1;33m\u001b[0m\u001b[0m\n\u001b[0;32m    906\u001b[0m                 \u001b[0mself\u001b[0m\u001b[1;33m.\u001b[0m\u001b[0mlog\u001b[0m\u001b[1;33m.\u001b[0m\u001b[0mwarning\u001b[0m\u001b[1;33m(\u001b[0m\u001b[1;34m\"Invalid Message:\"\u001b[0m\u001b[1;33m,\u001b[0m \u001b[0mexc_info\u001b[0m\u001b[1;33m=\u001b[0m\u001b[1;32mTrue\u001b[0m\u001b[1;33m)\u001b[0m\u001b[1;33m\u001b[0m\u001b[1;33m\u001b[0m\u001b[0m\n",
      "\u001b[1;31mKeyboardInterrupt\u001b[0m: Interrupted by user"
     ]
    }
   ],
   "source": [
    "# 전체 가동 코드\n",
    "\n",
    "print(\"want to decide your settings? it will create data automatically.(y/n)\")\n",
    "\n",
    "while(True):\n",
    "    menubtn = input()\n",
    "    print(\"\")\n",
    "    if menubtn == \"y\":\n",
    "        settings()\n",
    "        createData(market)\n",
    "        break\n",
    "    elif menubtn == \"n\":\n",
    "        break\n",
    "    else:\n",
    "        print(\"selected wrong button, want to decide your settings?(y/n)\")\n",
    "        \n",
    "print(\"select ur menus.\")\n",
    "print(\"\")\n",
    "print(\"seeAll = show all stock datas of market which u selected.\")\n",
    "print(\"search = search some stocks which you want, it will show charts and recent dividend infos.\")\n",
    "\n",
    "while(True):\n",
    "    menubtn = input()\n",
    "    if menubtn == \"seeAll\":\n",
    "        print(\"s\")\n",
    "    elif menubtn == \"search\":\n",
    "        print(\"a\")\n",
    "    else:\n",
    "        print(\"you just selected wrong menu.\")\n",
    "        print(\"\")"
   ]
  },
  {
   "cell_type": "code",
   "execution_count": null,
   "metadata": {},
   "outputs": [],
   "source": [
    "# seeAll - GC 접근 여부 확인해 줄 로직 설정"
   ]
  },
  {
   "cell_type": "code",
   "execution_count": null,
   "metadata": {},
   "outputs": [],
   "source": [
    "# search - 배당정보 형성 클래스 생성\n",
    "# https://m.blog.naver.com/silvury/221312883764\n",
    "\n",
    "def getDividendData(stockCode):\n",
    "    data = []\n",
    "    url = \"https://finance.yahoo.com/quote/\" + stockcode + \"?p=\" + stockcode\n",
    "    rows = bs(urllib.urlopen(url).read()).findAll('table')[1].tbody.findAll('tr')"
   ]
  },
  {
   "cell_type": "code",
   "execution_count": 16,
   "metadata": {},
   "outputs": [],
   "source": [
    "# 가동일 기준 데이터를 로드, 스톡리스트를 생성해줄 클래스 생성\n",
    "\n",
    "# market = url 통해 input값 받아옴\n",
    "# dayago = 위와 동일\n",
    "\n",
    "def createData(market):\n",
    "    \n",
    "    codefilename = './stockDataSet/marketList_' + str(market) + '.csv'\n",
    "    \n",
    "    # 목표 시장 선택 및 데이터 로드\n",
    "    print(\"loading entire stockcode data from market..\")\n",
    "    try:\n",
    "        with open(codefilename, 'r', newline='') as file: # file을 여는게 아니라 있는지 확인하는 기능으로 치환\n",
    "            print(\"list already exists, proceed to next steps.\")\n",
    "    except:\n",
    "        try:\n",
    "            print(\"list none-exists. load marketList which you requested.\")\n",
    "            targetMarket = web.StockListing(market)\n",
    "            print(\"loading complete. making lists..\")\n",
    "\n",
    "            targetMarket.to_csv('./stockDataSet/marketList_' + str(market) + '.csv')\n",
    "            print(\"list created, initialize to next steps.\")\n",
    "\n",
    "        except:\n",
    "            time.sleep(3)\n",
    "            print(\"loading error occured, please try again or check ur status.\")"
   ]
  },
  {
   "cell_type": "code",
   "execution_count": 8,
   "metadata": {},
   "outputs": [],
   "source": [
    "# 기본값 입력받을 클래스\n",
    "def settings():\n",
    "    print(\"market list : \")\n",
    "    print(\"KRX(한국전체), KOSPI(코스피전체), KOSDAQ(코스닥전체), KONEX(코넥스전체) - 배당 구현중\")\n",
    "    print(\"NASDAQ(나스닥종목), NYSE(뉴욕증권거래소), AMEX(AMEX종목), SP500(S&P500 종목)\")\n",
    "    print(\"\")\n",
    "    print(\"'dayago' decieds your startday to crawl data. we recommand to set 'dayago' at least 1 year. (365)\")\n",
    "    print(\"\")\n",
    "\n",
    "    \n",
    "    print(\"set your target market.\")\n",
    "    global market\n",
    "    market = input()\n",
    "    \n",
    "    print(\"set your 'dayago'.\")\n",
    "    dayago = input()\n",
    "\n",
    "    global startday\n",
    "    startday = date.today() - timedelta(int(dayago))\n",
    "        \n",
    "    print(\"\")\n",
    "    print(\"**** Data has been set. make sure ur market. if it doesn't match with the list above, then it will occur some errors. ****\")\n",
    "    print(\"\")\n",
    "\n",
    "    print(\"market : \", market)\n",
    "    print(\"startday(dayago) : \", startday, \"(\", dayago, \")\")\n",
    "    print(\"\")"
   ]
  }
 ],
 "metadata": {
  "kernelspec": {
   "display_name": "Python 3",
   "language": "python",
   "name": "python3"
  },
  "language_info": {
   "codemirror_mode": {
    "name": "ipython",
    "version": 3
   },
   "file_extension": ".py",
   "mimetype": "text/x-python",
   "name": "python",
   "nbconvert_exporter": "python",
   "pygments_lexer": "ipython3",
   "version": "3.8.5"
  }
 },
 "nbformat": 4,
 "nbformat_minor": 4
}

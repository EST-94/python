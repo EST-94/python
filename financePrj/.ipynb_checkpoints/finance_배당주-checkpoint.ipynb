{
 "cells": [
  {
   "cell_type": "code",
   "execution_count": null,
   "metadata": {},
   "outputs": [],
   "source": [
    "# 특정 종목의 코드를 받으면, 해당 코드의 관련 정보를 확인 후 매수 추천여부를 알려준다.\n",
    "\n",
    "# 1. 기능\n",
    "# = 코드 입력 시 해당 주가 매수추천여부 출력 (financeDatareader 이용, 시세차익) / 배당 per 등 배당 관련 정보 출력 / 전체 주가그래프 제시\n"
   ]
  },
  {
   "cell_type": "code",
   "execution_count": null,
   "metadata": {},
   "outputs": [],
   "source": [
    "# 필요한 라이브러리\n",
    "\n",
    "import FinanceDataReader as web\n",
    "from datetime import date, timedelta\n",
    "import matplotlib.pyplot as plt\n",
    "import datetime\n",
    "import pandas as pd\n",
    "\n",
    "%matplotlib inline"
   ]
  },
  {
   "cell_type": "code",
   "execution_count": null,
   "metadata": {},
   "outputs": [],
   "source": []
  },
  {
   "cell_type": "code",
   "execution_count": null,
   "metadata": {},
   "outputs": [],
   "source": []
  },
  {
   "cell_type": "code",
   "execution_count": null,
   "metadata": {},
   "outputs": [],
   "source": []
  },
  {
   "cell_type": "code",
   "execution_count": null,
   "metadata": {},
   "outputs": [],
   "source": [
    "# 가동일 기준 데이터를 로드, 리스트를 생성해줄 클래스 생성\n",
    "# 기준이 될 시작일자, 시장목록을 입력받는다.\n",
    "\n",
    "# 시장목록 : KRX(한국전체), KOSPI(코스피전체), KOSDAQ(코스닥전체), KONEX(코넥스전체),\n",
    "# / NASDAQ(나스닥종목), NYSE(뉴욕증권거래소), AMEX(AMEX종목), SP500(S&P500 종목)\n",
    "\n",
    "# market = url 통해 input값 받아옴\n",
    "# dayago = 위와 동일\n",
    "\n",
    "\n",
    "def createData(dayago, market):\n",
    "    today = date.today()\n",
    "    startday = date.today() - timedelta(dayago)\n",
    "    yesterday = date.today() - timedelta(1)\n",
    "    \n",
    "    codefilename = 'marketList_' + str(market) + '.csv'\n",
    "    \n",
    "    # 목표 시장 선택 및 데이터 로드\n",
    "    print(\"loading entire stockcode data from market..\")\n",
    "    try:\n",
    "        with open(codefilename, 'r', newline='') as file: # file을 여는게 아니라 있는지 확인하는 기능으로 치환\n",
    "            print(\"list already exists, proceed to next steps.\")\n",
    "    except:\n",
    "        try:\n",
    "            print(\"list none-exists. load marketList which you requested.\")\n",
    "            targetMarket = web.StockListing(market)\n",
    "            print(\"loading complete. making lists..\")\n",
    "\n",
    "            marketList.to_csv('marketList_' + str(market) + '.csv')\n",
    "            print(\"list created, initialize to next steps.\")\n",
    "\n",
    "        except:\n",
    "            time.sleep(3)\n",
    "            print(\"loading error occured, please try again or check ur status.\")"
   ]
  },
  {
   "cell_type": "code",
   "execution_count": null,
   "metadata": {},
   "outputs": [],
   "source": []
  },
  {
   "cell_type": "code",
   "execution_count": null,
   "metadata": {},
   "outputs": [],
   "source": []
  }
 ],
 "metadata": {
  "kernelspec": {
   "display_name": "Python 3",
   "language": "python",
   "name": "python3"
  },
  "language_info": {
   "codemirror_mode": {
    "name": "ipython",
    "version": 3
   },
   "file_extension": ".py",
   "mimetype": "text/x-python",
   "name": "python",
   "nbconvert_exporter": "python",
   "pygments_lexer": "ipython3",
   "version": "3.8.5"
  }
 },
 "nbformat": 4,
 "nbformat_minor": 4
}

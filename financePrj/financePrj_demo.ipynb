{
 "cells": [
  {
   "cell_type": "code",
   "execution_count": null,
   "metadata": {},
   "outputs": [],
   "source": [
    "# 참고링크\n",
    "\n",
    "# financedatareader 사용법\n",
    "# https://financedata.github.io/posts/finance-data-reader-users-guide.html\n",
    "\n",
    "# 각종지표 출력\n",
    "# https://m.blog.naver.com/stochastic73/222126545678"
   ]
  },
  {
   "cell_type": "code",
   "execution_count": 34,
   "metadata": {},
   "outputs": [],
   "source": [
    "# 라이브러리 선언\n",
    "\n",
    "import FinanceDataReader as web\n",
    "from datetime import date, timedelta\n",
    "import matplotlib.pyplot as plt\n",
    "import datetime\n",
    "import pandas as pd\n",
    "from http.server import BaseHTTPRequestHandler, HTTPServer\n",
    "\n",
    "%matplotlib inline"
   ]
  },
  {
   "cell_type": "code",
   "execution_count": 4,
   "metadata": {},
   "outputs": [
    {
     "name": "stdout",
     "output_type": "stream",
     "text": [
      "2021-05-30\n",
      "2019-06-10\n",
      "2021-05-29\n"
     ]
    }
   ],
   "source": [
    "# 시작일, 오늘, 이전일에 대한 변수 지정\n",
    "today = date.today()\n",
    "startday = date.today() - timedelta(720)\n",
    "yesterday = date.today() - timedelta(1)\n",
    "\n",
    "print(today)\n",
    "print(startday)\n",
    "print(yesterday)"
   ]
  },
  {
   "cell_type": "code",
   "execution_count": 5,
   "metadata": {},
   "outputs": [
    {
     "name": "stderr",
     "output_type": "stream",
     "text": [
      "100%|██████████████████████████████████████████████████████████████████████████████| 3839/3839 [00:42<00:00, 90.47it/s]\n"
     ]
    }
   ],
   "source": [
    "# 목표 시장 선택 및 데이터 로드\n",
    "targetMarket = web.StockListing('NASDAQ')"
   ]
  },
  {
   "cell_type": "code",
   "execution_count": 6,
   "metadata": {},
   "outputs": [
    {
     "data": {
      "text/html": [
       "<div>\n",
       "<style scoped>\n",
       "    .dataframe tbody tr th:only-of-type {\n",
       "        vertical-align: middle;\n",
       "    }\n",
       "\n",
       "    .dataframe tbody tr th {\n",
       "        vertical-align: top;\n",
       "    }\n",
       "\n",
       "    .dataframe thead th {\n",
       "        text-align: right;\n",
       "    }\n",
       "</style>\n",
       "<table border=\"1\" class=\"dataframe\">\n",
       "  <thead>\n",
       "    <tr style=\"text-align: right;\">\n",
       "      <th></th>\n",
       "      <th>Symbol</th>\n",
       "      <th>Name</th>\n",
       "      <th>Industry</th>\n",
       "      <th>IndustryCode</th>\n",
       "    </tr>\n",
       "  </thead>\n",
       "  <tbody>\n",
       "    <tr>\n",
       "      <th>0</th>\n",
       "      <td>AAPL</td>\n",
       "      <td>Apple Inc</td>\n",
       "      <td>컴퓨터, 전화 및 가전제품</td>\n",
       "      <td>571060</td>\n",
       "    </tr>\n",
       "    <tr>\n",
       "      <th>1</th>\n",
       "      <td>MSFT</td>\n",
       "      <td>Microsoft Corp</td>\n",
       "      <td>소프트웨어 및 IT서비스</td>\n",
       "      <td>572010</td>\n",
       "    </tr>\n",
       "    <tr>\n",
       "      <th>2</th>\n",
       "      <td>AMZN</td>\n",
       "      <td>Amazon.com Inc</td>\n",
       "      <td>다양한 소매업</td>\n",
       "      <td>534020</td>\n",
       "    </tr>\n",
       "    <tr>\n",
       "      <th>3</th>\n",
       "      <td>FB</td>\n",
       "      <td>Facebook Inc Class A</td>\n",
       "      <td>소프트웨어 및 IT서비스</td>\n",
       "      <td>572010</td>\n",
       "    </tr>\n",
       "    <tr>\n",
       "      <th>4</th>\n",
       "      <td>GOOGL</td>\n",
       "      <td>Alphabet Inc Class A</td>\n",
       "      <td>소프트웨어 및 IT서비스</td>\n",
       "      <td>572010</td>\n",
       "    </tr>\n",
       "  </tbody>\n",
       "</table>\n",
       "</div>"
      ],
      "text/plain": [
       "  Symbol                  Name        Industry IndustryCode\n",
       "0   AAPL             Apple Inc  컴퓨터, 전화 및 가전제품       571060\n",
       "1   MSFT        Microsoft Corp   소프트웨어 및 IT서비스       572010\n",
       "2   AMZN        Amazon.com Inc         다양한 소매업       534020\n",
       "3     FB  Facebook Inc Class A   소프트웨어 및 IT서비스       572010\n",
       "4  GOOGL  Alphabet Inc Class A   소프트웨어 및 IT서비스       572010"
      ]
     },
     "execution_count": 6,
     "metadata": {},
     "output_type": "execute_result"
    }
   ],
   "source": [
    "targetMarket.head(5)"
   ]
  },
  {
   "cell_type": "code",
   "execution_count": 9,
   "metadata": {},
   "outputs": [
    {
     "data": {
      "text/plain": [
       "Symbol          object\n",
       "Name            object\n",
       "Industry        object\n",
       "IndustryCode    object\n",
       "dtype: object"
      ]
     },
     "execution_count": 9,
     "metadata": {},
     "output_type": "execute_result"
    }
   ],
   "source": [
    "targetMarket.dtypes"
   ]
  },
  {
   "cell_type": "code",
   "execution_count": 36,
   "metadata": {},
   "outputs": [],
   "source": [
    "# 목표 시장 내 상위 200종목 선정\n",
    "symbolList = targetMarket.loc[:199, \"Symbol\"]\n",
    "nameList = targetMarket.loc[:199, \"Name\"]"
   ]
  },
  {
   "cell_type": "code",
   "execution_count": 46,
   "metadata": {},
   "outputs": [],
   "source": [
    "t1 = pd.DataFrame(data = list(zip(symbolList, nameList)), columns = ['stockCode', 'corpName'])"
   ]
  },
  {
   "cell_type": "code",
   "execution_count": 47,
   "metadata": {},
   "outputs": [
    {
     "data": {
      "text/html": [
       "<div>\n",
       "<style scoped>\n",
       "    .dataframe tbody tr th:only-of-type {\n",
       "        vertical-align: middle;\n",
       "    }\n",
       "\n",
       "    .dataframe tbody tr th {\n",
       "        vertical-align: top;\n",
       "    }\n",
       "\n",
       "    .dataframe thead th {\n",
       "        text-align: right;\n",
       "    }\n",
       "</style>\n",
       "<table border=\"1\" class=\"dataframe\">\n",
       "  <thead>\n",
       "    <tr style=\"text-align: right;\">\n",
       "      <th></th>\n",
       "      <th>stockCode</th>\n",
       "      <th>corpName</th>\n",
       "    </tr>\n",
       "  </thead>\n",
       "  <tbody>\n",
       "    <tr>\n",
       "      <th>0</th>\n",
       "      <td>AAPL</td>\n",
       "      <td>Apple Inc</td>\n",
       "    </tr>\n",
       "    <tr>\n",
       "      <th>1</th>\n",
       "      <td>MSFT</td>\n",
       "      <td>Microsoft Corp</td>\n",
       "    </tr>\n",
       "    <tr>\n",
       "      <th>2</th>\n",
       "      <td>AMZN</td>\n",
       "      <td>Amazon.com Inc</td>\n",
       "    </tr>\n",
       "    <tr>\n",
       "      <th>3</th>\n",
       "      <td>FB</td>\n",
       "      <td>Facebook Inc Class A</td>\n",
       "    </tr>\n",
       "    <tr>\n",
       "      <th>4</th>\n",
       "      <td>GOOGL</td>\n",
       "      <td>Alphabet Inc Class A</td>\n",
       "    </tr>\n",
       "    <tr>\n",
       "      <th>...</th>\n",
       "      <td>...</td>\n",
       "      <td>...</td>\n",
       "    </tr>\n",
       "    <tr>\n",
       "      <th>195</th>\n",
       "      <td>MPWR</td>\n",
       "      <td>Monolithic Power Systems Inc</td>\n",
       "    </tr>\n",
       "    <tr>\n",
       "      <th>196</th>\n",
       "      <td>AAL</td>\n",
       "      <td>American Airlines Group Inc</td>\n",
       "    </tr>\n",
       "    <tr>\n",
       "      <th>197</th>\n",
       "      <td>PTC</td>\n",
       "      <td>PTC Inc</td>\n",
       "    </tr>\n",
       "    <tr>\n",
       "      <th>198</th>\n",
       "      <td>LKQ</td>\n",
       "      <td>LKQ Corp</td>\n",
       "    </tr>\n",
       "    <tr>\n",
       "      <th>199</th>\n",
       "      <td>ENTG</td>\n",
       "      <td>Entegris Inc</td>\n",
       "    </tr>\n",
       "  </tbody>\n",
       "</table>\n",
       "<p>200 rows × 2 columns</p>\n",
       "</div>"
      ],
      "text/plain": [
       "    stockCode                      corpName\n",
       "0        AAPL                     Apple Inc\n",
       "1        MSFT                Microsoft Corp\n",
       "2        AMZN                Amazon.com Inc\n",
       "3          FB          Facebook Inc Class A\n",
       "4       GOOGL          Alphabet Inc Class A\n",
       "..        ...                           ...\n",
       "195      MPWR  Monolithic Power Systems Inc\n",
       "196       AAL   American Airlines Group Inc\n",
       "197       PTC                       PTC Inc\n",
       "198       LKQ                      LKQ Corp\n",
       "199      ENTG                  Entegris Inc\n",
       "\n",
       "[200 rows x 2 columns]"
      ]
     },
     "execution_count": 47,
     "metadata": {},
     "output_type": "execute_result"
    }
   ],
   "source": [
    "t1"
   ]
  },
  {
   "cell_type": "code",
   "execution_count": 22,
   "metadata": {},
   "outputs": [
    {
     "data": {
      "text/plain": [
       "'AAPL'"
      ]
     },
     "execution_count": 22,
     "metadata": {},
     "output_type": "execute_result"
    }
   ],
   "source": [
    "symbolList[0]"
   ]
  },
  {
   "cell_type": "code",
   "execution_count": 23,
   "metadata": {},
   "outputs": [],
   "source": [
    "# 특정 주식코드 받아서 도표로 그려줌\n",
    "SEC = web.DataReader(symbolList[0], startday, yesterday)"
   ]
  },
  {
   "cell_type": "code",
   "execution_count": 25,
   "metadata": {},
   "outputs": [
    {
     "data": {
      "text/plain": [
       "<AxesSubplot:xlabel='Date'>"
      ]
     },
     "execution_count": 25,
     "metadata": {},
     "output_type": "execute_result"
    },
    {
     "data": {
      "image/png": "[encoded data removed]",
      "text/plain": [
       "<Figure size 1152x288 with 1 Axes>"
      ]
     },
     "metadata": {
      "needs_background": "light"
     },
     "output_type": "display_data"
    }
   ],
   "source": [
    "# 예시, 2020 애플 종가기준 도표 형성\n",
    "SEC[\"2020-01-01\" : \"2020-12-30\"]['Close'].plot(figsize = (16, 4), style = 'b')"
   ]
  },
  {
   "cell_type": "code",
   "execution_count": 27,
   "metadata": {},
   "outputs": [],
   "source": [
    "SEC[\"MA_5\"]=SEC[\"Close\"].rolling(window=5).mean()\n",
    "SEC[\"MA_20\"]=SEC[\"Close\"].rolling(window=20).mean()\n",
    "SEC[\"diff\"]=SEC[\"MA_5\"]-SEC[\"MA_20\"]"
   ]
  },
  {
   "cell_type": "code",
   "execution_count": 28,
   "metadata": {},
   "outputs": [
    {
     "data": {
      "text/html": [
       "<div>\n",
       "<style scoped>\n",
       "    .dataframe tbody tr th:only-of-type {\n",
       "        vertical-align: middle;\n",
       "    }\n",
       "\n",
       "    .dataframe tbody tr th {\n",
       "        vertical-align: top;\n",
       "    }\n",
       "\n",
       "    .dataframe thead th {\n",
       "        text-align: right;\n",
       "    }\n",
       "</style>\n",
       "<table border=\"1\" class=\"dataframe\">\n",
       "  <thead>\n",
       "    <tr style=\"text-align: right;\">\n",
       "      <th></th>\n",
       "      <th>Close</th>\n",
       "      <th>Open</th>\n",
       "      <th>High</th>\n",
       "      <th>Low</th>\n",
       "      <th>Volume</th>\n",
       "      <th>Change</th>\n",
       "      <th>MA_5</th>\n",
       "      <th>MA_20</th>\n",
       "      <th>diff</th>\n",
       "    </tr>\n",
       "    <tr>\n",
       "      <th>Date</th>\n",
       "      <th></th>\n",
       "      <th></th>\n",
       "      <th></th>\n",
       "      <th></th>\n",
       "      <th></th>\n",
       "      <th></th>\n",
       "      <th></th>\n",
       "      <th></th>\n",
       "      <th></th>\n",
       "    </tr>\n",
       "  </thead>\n",
       "  <tbody>\n",
       "    <tr>\n",
       "      <th>2019-06-10</th>\n",
       "      <td>48.15</td>\n",
       "      <td>47.95</td>\n",
       "      <td>48.84</td>\n",
       "      <td>47.91</td>\n",
       "      <td>104880000.0</td>\n",
       "      <td>0.0128</td>\n",
       "      <td>NaN</td>\n",
       "      <td>NaN</td>\n",
       "      <td>NaN</td>\n",
       "    </tr>\n",
       "    <tr>\n",
       "      <th>2019-06-11</th>\n",
       "      <td>48.70</td>\n",
       "      <td>48.72</td>\n",
       "      <td>49.00</td>\n",
       "      <td>48.40</td>\n",
       "      <td>107730000.0</td>\n",
       "      <td>0.0114</td>\n",
       "      <td>NaN</td>\n",
       "      <td>NaN</td>\n",
       "      <td>NaN</td>\n",
       "    </tr>\n",
       "    <tr>\n",
       "      <th>2019-06-12</th>\n",
       "      <td>48.55</td>\n",
       "      <td>48.49</td>\n",
       "      <td>48.99</td>\n",
       "      <td>48.35</td>\n",
       "      <td>73010000.0</td>\n",
       "      <td>-0.0031</td>\n",
       "      <td>NaN</td>\n",
       "      <td>NaN</td>\n",
       "      <td>NaN</td>\n",
       "    </tr>\n",
       "    <tr>\n",
       "      <th>2019-06-13</th>\n",
       "      <td>48.54</td>\n",
       "      <td>48.67</td>\n",
       "      <td>49.20</td>\n",
       "      <td>48.40</td>\n",
       "      <td>86700000.0</td>\n",
       "      <td>-0.0002</td>\n",
       "      <td>NaN</td>\n",
       "      <td>NaN</td>\n",
       "      <td>NaN</td>\n",
       "    </tr>\n",
       "    <tr>\n",
       "      <th>2019-06-14</th>\n",
       "      <td>48.19</td>\n",
       "      <td>47.89</td>\n",
       "      <td>48.40</td>\n",
       "      <td>47.58</td>\n",
       "      <td>75050000.0</td>\n",
       "      <td>-0.0072</td>\n",
       "      <td>48.426</td>\n",
       "      <td>NaN</td>\n",
       "      <td>NaN</td>\n",
       "    </tr>\n",
       "    <tr>\n",
       "      <th>...</th>\n",
       "      <td>...</td>\n",
       "      <td>...</td>\n",
       "      <td>...</td>\n",
       "      <td>...</td>\n",
       "      <td>...</td>\n",
       "      <td>...</td>\n",
       "      <td>...</td>\n",
       "      <td>...</td>\n",
       "      <td>...</td>\n",
       "    </tr>\n",
       "    <tr>\n",
       "      <th>2021-05-24</th>\n",
       "      <td>127.10</td>\n",
       "      <td>126.09</td>\n",
       "      <td>127.94</td>\n",
       "      <td>125.95</td>\n",
       "      <td>63090000.0</td>\n",
       "      <td>0.0133</td>\n",
       "      <td>125.876</td>\n",
       "      <td>128.2475</td>\n",
       "      <td>-2.3715</td>\n",
       "    </tr>\n",
       "    <tr>\n",
       "      <th>2021-05-25</th>\n",
       "      <td>126.90</td>\n",
       "      <td>127.67</td>\n",
       "      <td>128.28</td>\n",
       "      <td>126.32</td>\n",
       "      <td>72010000.0</td>\n",
       "      <td>-0.0016</td>\n",
       "      <td>126.286</td>\n",
       "      <td>127.8730</td>\n",
       "      <td>-1.5870</td>\n",
       "    </tr>\n",
       "    <tr>\n",
       "      <th>2021-05-26</th>\n",
       "      <td>126.85</td>\n",
       "      <td>126.93</td>\n",
       "      <td>127.36</td>\n",
       "      <td>126.43</td>\n",
       "      <td>56580000.0</td>\n",
       "      <td>-0.0004</td>\n",
       "      <td>126.718</td>\n",
       "      <td>127.5365</td>\n",
       "      <td>-0.8185</td>\n",
       "    </tr>\n",
       "    <tr>\n",
       "      <th>2021-05-27</th>\n",
       "      <td>125.28</td>\n",
       "      <td>126.64</td>\n",
       "      <td>127.63</td>\n",
       "      <td>125.28</td>\n",
       "      <td>94630000.0</td>\n",
       "      <td>-0.0124</td>\n",
       "      <td>126.312</td>\n",
       "      <td>127.1265</td>\n",
       "      <td>-0.8145</td>\n",
       "    </tr>\n",
       "    <tr>\n",
       "      <th>2021-05-28</th>\n",
       "      <td>124.61</td>\n",
       "      <td>125.57</td>\n",
       "      <td>125.80</td>\n",
       "      <td>124.55</td>\n",
       "      <td>71310000.0</td>\n",
       "      <td>-0.0053</td>\n",
       "      <td>126.148</td>\n",
       "      <td>126.7840</td>\n",
       "      <td>-0.6360</td>\n",
       "    </tr>\n",
       "  </tbody>\n",
       "</table>\n",
       "<p>498 rows × 9 columns</p>\n",
       "</div>"
      ],
      "text/plain": [
       "             Close    Open    High     Low       Volume  Change     MA_5  \\\n",
       "Date                                                                       \n",
       "2019-06-10   48.15   47.95   48.84   47.91  104880000.0  0.0128      NaN   \n",
       "2019-06-11   48.70   48.72   49.00   48.40  107730000.0  0.0114      NaN   \n",
       "2019-06-12   48.55   48.49   48.99   48.35   73010000.0 -0.0031      NaN   \n",
       "2019-06-13   48.54   48.67   49.20   48.40   86700000.0 -0.0002      NaN   \n",
       "2019-06-14   48.19   47.89   48.40   47.58   75050000.0 -0.0072   48.426   \n",
       "...            ...     ...     ...     ...          ...     ...      ...   \n",
       "2021-05-24  127.10  126.09  127.94  125.95   63090000.0  0.0133  125.876   \n",
       "2021-05-25  126.90  127.67  128.28  126.32   72010000.0 -0.0016  126.286   \n",
       "2021-05-26  126.85  126.93  127.36  126.43   56580000.0 -0.0004  126.718   \n",
       "2021-05-27  125.28  126.64  127.63  125.28   94630000.0 -0.0124  126.312   \n",
       "2021-05-28  124.61  125.57  125.80  124.55   71310000.0 -0.0053  126.148   \n",
       "\n",
       "               MA_20    diff  \n",
       "Date                          \n",
       "2019-06-10       NaN     NaN  \n",
       "2019-06-11       NaN     NaN  \n",
       "2019-06-12       NaN     NaN  \n",
       "2019-06-13       NaN     NaN  \n",
       "2019-06-14       NaN     NaN  \n",
       "...              ...     ...  \n",
       "2021-05-24  128.2475 -2.3715  \n",
       "2021-05-25  127.8730 -1.5870  \n",
       "2021-05-26  127.5365 -0.8185  \n",
       "2021-05-27  127.1265 -0.8145  \n",
       "2021-05-28  126.7840 -0.6360  \n",
       "\n",
       "[498 rows x 9 columns]"
      ]
     },
     "execution_count": 28,
     "metadata": {},
     "output_type": "execute_result"
    }
   ],
   "source": [
    "SEC"
   ]
  },
  {
   "cell_type": "code",
   "execution_count": null,
   "metadata": {},
   "outputs": [],
   "source": [
    "# 필요한 각 수치 지정 필요"
   ]
  },
  {
   "cell_type": "code",
   "execution_count": null,
   "metadata": {},
   "outputs": [],
   "source": []
  },
  {
   "cell_type": "code",
   "execution_count": 48,
   "metadata": {},
   "outputs": [],
   "source": [
    "# 가동일 기준 데이터를 로드, 리스트를 생성해줄 클래스 생성\n",
    "# 기준이 될 시작일자, 시장목록을 입력받는다.\n",
    "\n",
    "# 시장목록 : KRX(한국전체), KOSPI(코스피전체), KOSDAQ(코스닥전체), KONEX(코넥스전체),\n",
    "# / NASDAQ(나스닥종목), NYSE(뉴욕증권거래소), AMEX(AMEX종목), SP500(S&P500 종목)\n",
    "\n",
    "def createData(dayago, market):\n",
    "    today = date.today()\n",
    "    startday = date.today() - timedelta(dayago)\n",
    "    yesterday = date.today() - timedelta(1)\n",
    "    \n",
    "    # 목표 시장 선택 및 데이터 로드\n",
    "    print(\"loading entire stockcode data from market..\")\n",
    "    try:\n",
    "        targetMarket = web.StockListing(market)\n",
    "        print(\"loading complete. making lists..\")\n",
    "        \n",
    "        # 목표 시장 내 상위 100종목 선정\n",
    "        symbolList = targetMarket.loc[:99, \"Symbol\"]\n",
    "        nameList = targetMarket.loc[:99, \"Name\"]\n",
    "        \n",
    "        marketList = pd.DataFrame(data = list(zip(symbolList, nameList)), columns = ['stockCode', 'corpName'])\n",
    "        marketList.to_csv('marketList_' + str(today) + '.csv')\n",
    "        print(\"list created, initialize next steps.\")\n",
    "        \n",
    "    except:\n",
    "        time.sleep(3)\n",
    "        print(\"loading error occured, please try again or check ur status.\")"
   ]
  },
  {
   "cell_type": "code",
   "execution_count": null,
   "metadata": {},
   "outputs": [],
   "source": []
  },
  {
   "cell_type": "code",
   "execution_count": null,
   "metadata": {},
   "outputs": [],
   "source": [
    "# 종가기준 도표를 작성 밎 저장할 클래스 생성"
   ]
  },
  {
   "cell_type": "code",
   "execution_count": 35,
   "metadata": {},
   "outputs": [],
   "source": [
    "# 리퀘스트 처리할 클래스 생성\n",
    "\n",
    "class reqHandler(BaseHTTPRequestHandler):\n",
    "    \n",
    "    def menuSelect(self):\n",
    "        # 결과창 : \"종목명\"(종목코드), 매수/매도추천여부(점수) 출력\n",
    "        # ex) http://localhost:8666/finance/showRes?how=(buy/sell)&duration=(long/short)&recommand=(on/off)&stockcode=(AAPL_TSLA)\n",
    "        # 추천은 변동폭 기준 전망이 좋은 상위 10개 종목 내용 추가함. 타 조건과 겹칠 수 있다.\n",
    "        # 매수 / 매도 옵션에 따라 적용되는 식을 다르게 한다. 검색하는 코드들만 내용 출력할 것.\n",
    "        data = []\n",
    "        if None != re.search('/finance/*', self.path):\n",
    "            if None != re.search('finance/showRes', self.path):\n",
    "                queryString = urlparse.split('&')\n",
    "                modSet = queryString[0].split('=')[1]\n",
    "                rangeSet = queryString[1].split('=')[1]\n",
    "                recommandSet = queryString[2].split('=')[1]\n",
    "                targetStock = queryString[3].split('=')[1]\n",
    "#                 switchs = [modSet, rangeSet, searchSet]\n",
    "\n",
    "        else:\n",
    "            self.send_response(404)\n",
    "            self.send_header('Content-type', 'application/json')\n",
    "            self.end_headers()"
   ]
  },
  {
   "cell_type": "code",
   "execution_count": 30,
   "metadata": {},
   "outputs": [],
   "source": [
    "# url값 확인\n",
    "\n",
    "urlparse = \"http://localhost:8666/finance/showRes?how=(buy/sell)&duration=(long/short)&recommand=(on/off)&stockcode=(AAPL_TSLA)\"\n",
    "queryString = urlparse.split('&')\n",
    "modSet = queryString[0].split('=')[1]\n",
    "rangeSet = queryString[1].split('=')[1]\n",
    "recommandSet = queryString[2].split('=')[1]\n",
    "targetStock = queryString[3].split('=')[1]"
   ]
  },
  {
   "cell_type": "code",
   "execution_count": 31,
   "metadata": {},
   "outputs": [
    {
     "data": {
      "text/plain": [
       "['http://localhost:8666/finance/showRes?how=(buy/sell)',\n",
       " 'duration=(long/short)',\n",
       " 'recommand=(on/off)',\n",
       " 'stockcode=(AAPL_TSLA)']"
      ]
     },
     "execution_count": 31,
     "metadata": {},
     "output_type": "execute_result"
    }
   ],
   "source": [
    "queryString"
   ]
  }
 ],
 "metadata": {
  "kernelspec": {
   "display_name": "Python 3",
   "language": "python",
   "name": "python3"
  },
  "language_info": {
   "codemirror_mode": {
    "name": "ipython",
    "version": 3
   },
   "file_extension": ".py",
   "mimetype": "text/x-python",
   "name": "python",
   "nbconvert_exporter": "python",
   "pygments_lexer": "ipython3",
   "version": "3.8.5"
  }
 },
 "nbformat": 4,
 "nbformat_minor": 4
}
